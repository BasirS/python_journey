{
 "cells": [
  {
   "cell_type": "code",
   "execution_count": 1,
   "id": "844f361d",
   "metadata": {},
   "outputs": [
    {
     "name": "stdout",
     "output_type": "stream",
     "text": [
      "55.18888888888889\n"
     ]
    }
   ],
   "source": [
    "import numpy\n",
    "numbers = [12, 45.7, 89, 23.5, 67, 91.2, 34, 56.3, 78]\n",
    "print(numpy.mean(numbers))"
   ]
  },
  {
   "cell_type": "code",
   "execution_count": 2,
   "id": "c6258666",
   "metadata": {},
   "outputs": [],
   "source": [
    "import numpy as np"
   ]
  },
  {
   "cell_type": "code",
   "execution_count": 3,
   "id": "d5b14e3d",
   "metadata": {},
   "outputs": [],
   "source": [
    "mean = 55.19 #of the list of numbers"
   ]
  },
  {
   "cell_type": "code",
   "execution_count": 4,
   "id": "ebb28fee",
   "metadata": {},
   "outputs": [
    {
     "name": "stdout",
     "output_type": "stream",
     "text": [
      "[12, 45.7, 89, 23.5, 67, 91.2, 34, 56.3, 78] 55.19\n"
     ]
    }
   ],
   "source": [
    "print(numbers, mean)"
   ]
  },
  {
   "cell_type": "code",
   "execution_count": 5,
   "id": "01972269",
   "metadata": {},
   "outputs": [
    {
     "name": "stdout",
     "output_type": "stream",
     "text": [
      "55.18888888888889\n"
     ]
    }
   ],
   "source": [
    "print(np.mean(numbers))"
   ]
  },
  {
   "cell_type": "code",
   "execution_count": 6,
   "id": "d7589236",
   "metadata": {},
   "outputs": [
    {
     "name": "stdout",
     "output_type": "stream",
     "text": [
      "[12.  45.7 89.  23.5 67.  91.2 34.  56.3 78. ]\n"
     ]
    }
   ],
   "source": [
    "abs_nums = np.abs(numbers)\n",
    "print(abs_nums)\n",
    "# getting absolute value of all numbers in numbers and save it to the variable abs_nums"
   ]
  },
  {
   "cell_type": "code",
   "execution_count": 7,
   "id": "8377bd10",
   "metadata": {},
   "outputs": [
    {
     "data": {
      "text/plain": [
       "array([12. , 45.7, 89. , 23.5, 67. , 91.2, 34. , 56.3, 78. ])"
      ]
     },
     "execution_count": 7,
     "metadata": {},
     "output_type": "execute_result"
    }
   ],
   "source": [
    "# NOT a list; it is a numpy array\n",
    "abs_nums"
   ]
  },
  {
   "cell_type": "code",
   "execution_count": 8,
   "id": "312189fb",
   "metadata": {},
   "outputs": [
    {
     "name": "stdout",
     "output_type": "stream",
     "text": [
      "<class 'numpy.ndarray'>\n"
     ]
    }
   ],
   "source": [
    "print(type(abs_nums))"
   ]
  },
  {
   "cell_type": "code",
   "execution_count": 9,
   "id": "52d9ee7f",
   "metadata": {},
   "outputs": [
    {
     "name": "stdout",
     "output_type": "stream",
     "text": [
      "[-23.   -4.   -3.   -2.    0.    1.    1.    2.    2.    2.    2.3   3.\n",
      "  10.   14.   20.   32.   32.   43.1  57.   65.4 123. ]\n"
     ]
    }
   ],
   "source": [
    "# Version 1\n",
    "numbers = [10, 2.3, -4, 20, 14, 1, 2, 0, -3, 1, -2, 2, 2, 65.4, 3, -23, 123, 43.1, 32, 57, 32]\n",
    "numbers_sorted = np.sort(numbers)\n",
    "print(numbers_sorted)"
   ]
  },
  {
   "cell_type": "code",
   "execution_count": 10,
   "id": "6cd1076a",
   "metadata": {},
   "outputs": [
    {
     "name": "stdout",
     "output_type": "stream",
     "text": [
      "[-23, -4, -3, -2, 0, 1, 1, 2, 2, 2, 2.3, 3, 10, 14, 20, 32, 32, 43.1, 57, 65.4, 123]\n"
     ]
    }
   ],
   "source": [
    "# Version 2\n",
    "numbers.sort()\n",
    "print(numbers)"
   ]
  },
  {
   "cell_type": "code",
   "execution_count": 11,
   "id": "348d402a",
   "metadata": {},
   "outputs": [],
   "source": [
    "import pandas as pd"
   ]
  },
  {
   "cell_type": "code",
   "execution_count": 12,
   "id": "71082636",
   "metadata": {},
   "outputs": [
    {
     "data": {
      "text/html": [
       "<div>\n",
       "<style scoped>\n",
       "    .dataframe tbody tr th:only-of-type {\n",
       "        vertical-align: middle;\n",
       "    }\n",
       "\n",
       "    .dataframe tbody tr th {\n",
       "        vertical-align: top;\n",
       "    }\n",
       "\n",
       "    .dataframe thead th {\n",
       "        text-align: right;\n",
       "    }\n",
       "</style>\n",
       "<table border=\"1\" class=\"dataframe\">\n",
       "  <thead>\n",
       "    <tr style=\"text-align: right;\">\n",
       "      <th></th>\n",
       "      <th>Product</th>\n",
       "      <th>Price</th>\n",
       "      <th>Quantity Sold</th>\n",
       "    </tr>\n",
       "  </thead>\n",
       "  <tbody>\n",
       "    <tr>\n",
       "      <th>0</th>\n",
       "      <td>Apples</td>\n",
       "      <td>1.50</td>\n",
       "      <td>26</td>\n",
       "    </tr>\n",
       "    <tr>\n",
       "      <th>1</th>\n",
       "      <td>Bananas</td>\n",
       "      <td>0.50</td>\n",
       "      <td>32</td>\n",
       "    </tr>\n",
       "    <tr>\n",
       "      <th>2</th>\n",
       "      <td>Lemons</td>\n",
       "      <td>1.99</td>\n",
       "      <td>17</td>\n",
       "    </tr>\n",
       "  </tbody>\n",
       "</table>\n",
       "</div>"
      ],
      "text/plain": [
       "   Product  Price  Quantity Sold\n",
       "0   Apples   1.50             26\n",
       "1  Bananas   0.50             32\n",
       "2   Lemons   1.99             17"
      ]
     },
     "execution_count": 12,
     "metadata": {},
     "output_type": "execute_result"
    }
   ],
   "source": [
    "fruit_data = pd.DataFrame({'Product': ['Apples', 'Bananas', 'Lemons'],\n",
    "             'Price': [1.50, 0.50, 1.99],\n",
    "             'Quantity Sold': [26, 32, 17]})\n",
    "# saving the dataframe to a variable called fruit_data\n",
    "fruit_data"
   ]
  },
  {
   "cell_type": "code",
   "execution_count": 13,
   "id": "61a76021",
   "metadata": {},
   "outputs": [
    {
     "name": "stdout",
     "output_type": "stream",
     "text": [
      "   Product  Price  Quantity Sold\n",
      "0   Apples   1.50             26\n",
      "1  Bananas   0.50             32\n",
      "2   Lemons   1.99             17\n"
     ]
    }
   ],
   "source": [
    "print(fruit_data)"
   ]
  },
  {
   "cell_type": "code",
   "execution_count": 14,
   "id": "38ef96b9",
   "metadata": {},
   "outputs": [
    {
     "data": {
      "text/html": [
       "<div>\n",
       "<style scoped>\n",
       "    .dataframe tbody tr th:only-of-type {\n",
       "        vertical-align: middle;\n",
       "    }\n",
       "\n",
       "    .dataframe tbody tr th {\n",
       "        vertical-align: top;\n",
       "    }\n",
       "\n",
       "    .dataframe thead th {\n",
       "        text-align: right;\n",
       "    }\n",
       "</style>\n",
       "<table border=\"1\" class=\"dataframe\">\n",
       "  <thead>\n",
       "    <tr style=\"text-align: right;\">\n",
       "      <th></th>\n",
       "      <th>number_courses</th>\n",
       "      <th>time_study</th>\n",
       "      <th>grade</th>\n",
       "    </tr>\n",
       "  </thead>\n",
       "  <tbody>\n",
       "    <tr>\n",
       "      <th>0</th>\n",
       "      <td>3</td>\n",
       "      <td>4.508</td>\n",
       "      <td>19.202</td>\n",
       "    </tr>\n",
       "    <tr>\n",
       "      <th>1</th>\n",
       "      <td>4</td>\n",
       "      <td>0.096</td>\n",
       "      <td>7.734</td>\n",
       "    </tr>\n",
       "    <tr>\n",
       "      <th>2</th>\n",
       "      <td>4</td>\n",
       "      <td>3.133</td>\n",
       "      <td>13.811</td>\n",
       "    </tr>\n",
       "    <tr>\n",
       "      <th>3</th>\n",
       "      <td>6</td>\n",
       "      <td>7.909</td>\n",
       "      <td>53.018</td>\n",
       "    </tr>\n",
       "    <tr>\n",
       "      <th>4</th>\n",
       "      <td>8</td>\n",
       "      <td>7.811</td>\n",
       "      <td>55.299</td>\n",
       "    </tr>\n",
       "    <tr>\n",
       "      <th>...</th>\n",
       "      <td>...</td>\n",
       "      <td>...</td>\n",
       "      <td>...</td>\n",
       "    </tr>\n",
       "    <tr>\n",
       "      <th>95</th>\n",
       "      <td>6</td>\n",
       "      <td>3.561</td>\n",
       "      <td>19.128</td>\n",
       "    </tr>\n",
       "    <tr>\n",
       "      <th>96</th>\n",
       "      <td>3</td>\n",
       "      <td>0.301</td>\n",
       "      <td>5.609</td>\n",
       "    </tr>\n",
       "    <tr>\n",
       "      <th>97</th>\n",
       "      <td>4</td>\n",
       "      <td>7.163</td>\n",
       "      <td>41.444</td>\n",
       "    </tr>\n",
       "    <tr>\n",
       "      <th>98</th>\n",
       "      <td>7</td>\n",
       "      <td>0.309</td>\n",
       "      <td>12.027</td>\n",
       "    </tr>\n",
       "    <tr>\n",
       "      <th>99</th>\n",
       "      <td>3</td>\n",
       "      <td>6.335</td>\n",
       "      <td>32.357</td>\n",
       "    </tr>\n",
       "  </tbody>\n",
       "</table>\n",
       "<p>100 rows × 3 columns</p>\n",
       "</div>"
      ],
      "text/plain": [
       "    number_courses  time_study   grade\n",
       "0                3       4.508  19.202\n",
       "1                4       0.096   7.734\n",
       "2                4       3.133  13.811\n",
       "3                6       7.909  53.018\n",
       "4                8       7.811  55.299\n",
       "..             ...         ...     ...\n",
       "95               6       3.561  19.128\n",
       "96               3       0.301   5.609\n",
       "97               4       7.163  41.444\n",
       "98               7       0.309  12.027\n",
       "99               3       6.335  32.357\n",
       "\n",
       "[100 rows x 3 columns]"
      ]
     },
     "execution_count": 14,
     "metadata": {},
     "output_type": "execute_result"
    }
   ],
   "source": [
    "grades_df = pd.read_csv(\"Student_Grades.csv\")\n",
    "grades_df"
   ]
  },
  {
   "cell_type": "code",
   "execution_count": 15,
   "id": "27fcc7fe",
   "metadata": {},
   "outputs": [
    {
     "data": {
      "text/plain": [
       "(100, 3)"
      ]
     },
     "execution_count": 15,
     "metadata": {},
     "output_type": "execute_result"
    }
   ],
   "source": [
    "grades_df.shape"
   ]
  },
  {
   "cell_type": "code",
   "execution_count": 16,
   "id": "5489a7d5",
   "metadata": {},
   "outputs": [
    {
     "data": {
      "text/html": [
       "<div>\n",
       "<style scoped>\n",
       "    .dataframe tbody tr th:only-of-type {\n",
       "        vertical-align: middle;\n",
       "    }\n",
       "\n",
       "    .dataframe tbody tr th {\n",
       "        vertical-align: top;\n",
       "    }\n",
       "\n",
       "    .dataframe thead th {\n",
       "        text-align: right;\n",
       "    }\n",
       "</style>\n",
       "<table border=\"1\" class=\"dataframe\">\n",
       "  <thead>\n",
       "    <tr style=\"text-align: right;\">\n",
       "      <th></th>\n",
       "      <th>number_courses</th>\n",
       "      <th>time_study</th>\n",
       "      <th>grade</th>\n",
       "    </tr>\n",
       "  </thead>\n",
       "  <tbody>\n",
       "    <tr>\n",
       "      <th>count</th>\n",
       "      <td>100.000000</td>\n",
       "      <td>100.000000</td>\n",
       "      <td>100.000000</td>\n",
       "    </tr>\n",
       "    <tr>\n",
       "      <th>mean</th>\n",
       "      <td>5.290000</td>\n",
       "      <td>4.077140</td>\n",
       "      <td>24.417690</td>\n",
       "    </tr>\n",
       "    <tr>\n",
       "      <th>std</th>\n",
       "      <td>1.799523</td>\n",
       "      <td>2.372914</td>\n",
       "      <td>14.326199</td>\n",
       "    </tr>\n",
       "    <tr>\n",
       "      <th>min</th>\n",
       "      <td>3.000000</td>\n",
       "      <td>0.096000</td>\n",
       "      <td>5.609000</td>\n",
       "    </tr>\n",
       "    <tr>\n",
       "      <th>25%</th>\n",
       "      <td>4.000000</td>\n",
       "      <td>2.058500</td>\n",
       "      <td>12.633000</td>\n",
       "    </tr>\n",
       "    <tr>\n",
       "      <th>50%</th>\n",
       "      <td>5.000000</td>\n",
       "      <td>4.022000</td>\n",
       "      <td>20.059500</td>\n",
       "    </tr>\n",
       "    <tr>\n",
       "      <th>75%</th>\n",
       "      <td>7.000000</td>\n",
       "      <td>6.179250</td>\n",
       "      <td>36.676250</td>\n",
       "    </tr>\n",
       "    <tr>\n",
       "      <th>max</th>\n",
       "      <td>8.000000</td>\n",
       "      <td>7.957000</td>\n",
       "      <td>55.299000</td>\n",
       "    </tr>\n",
       "  </tbody>\n",
       "</table>\n",
       "</div>"
      ],
      "text/plain": [
       "       number_courses  time_study       grade\n",
       "count      100.000000  100.000000  100.000000\n",
       "mean         5.290000    4.077140   24.417690\n",
       "std          1.799523    2.372914   14.326199\n",
       "min          3.000000    0.096000    5.609000\n",
       "25%          4.000000    2.058500   12.633000\n",
       "50%          5.000000    4.022000   20.059500\n",
       "75%          7.000000    6.179250   36.676250\n",
       "max          8.000000    7.957000   55.299000"
      ]
     },
     "execution_count": 16,
     "metadata": {},
     "output_type": "execute_result"
    }
   ],
   "source": [
    "grades_df.describe()"
   ]
  },
  {
   "cell_type": "code",
   "execution_count": 17,
   "id": "68db7399",
   "metadata": {},
   "outputs": [
    {
     "name": "stdout",
     "output_type": "stream",
     "text": [
      "    number_courses  time_study   grade\n",
      "0                3       4.508  19.202\n",
      "1                4       0.096   7.734\n",
      "2                4       3.133  13.811\n",
      "3                6       7.909  53.018\n",
      "4                8       7.811  55.299\n",
      "..             ...         ...     ...\n",
      "95               6       3.561  19.128\n",
      "96               3       0.301   5.609\n",
      "97               4       7.163  41.444\n",
      "98               7       0.309  12.027\n",
      "99               3       6.335  32.357\n",
      "\n",
      "[100 rows x 3 columns]\n"
     ]
    }
   ],
   "source": [
    "# Transpose the rows and columns with '.T'\n",
    "#grades_df = grades_df.T\n",
    "print(grades_df)"
   ]
  },
  {
   "cell_type": "code",
   "execution_count": 18,
   "id": "8c13c531",
   "metadata": {},
   "outputs": [
    {
     "name": "stdout",
     "output_type": "stream",
     "text": [
      "       number_courses  time_study       grade\n",
      "count      100.000000  100.000000  100.000000\n",
      "mean         5.290000    4.077140   24.417690\n",
      "std          1.799523    2.372914   14.326199\n",
      "min          3.000000    0.096000    5.609000\n",
      "25%          4.000000    2.058500   12.633000\n",
      "50%          5.000000    4.022000   20.059500\n",
      "75%          7.000000    6.179250   36.676250\n",
      "max          8.000000    7.957000   55.299000\n",
      "5.609\n",
      "55.299\n"
     ]
    }
   ],
   "source": [
    "# What are the maximum grades for this dataset?\n",
    "print(grades_df.describe())\n",
    "print(min(grades_df.grade))\n",
    "print(max(grades_df.grade))\n",
    "# Python is an OOP language which uses dot notation for previous data"
   ]
  },
  {
   "cell_type": "code",
   "execution_count": 19,
   "id": "e0d33955",
   "metadata": {},
   "outputs": [
    {
     "data": {
      "text/html": [
       "<div>\n",
       "<style scoped>\n",
       "    .dataframe tbody tr th:only-of-type {\n",
       "        vertical-align: middle;\n",
       "    }\n",
       "\n",
       "    .dataframe tbody tr th {\n",
       "        vertical-align: top;\n",
       "    }\n",
       "\n",
       "    .dataframe thead th {\n",
       "        text-align: right;\n",
       "    }\n",
       "</style>\n",
       "<table border=\"1\" class=\"dataframe\">\n",
       "  <thead>\n",
       "    <tr style=\"text-align: right;\">\n",
       "      <th></th>\n",
       "      <th>number_courses</th>\n",
       "      <th>time_study</th>\n",
       "      <th>grade</th>\n",
       "    </tr>\n",
       "  </thead>\n",
       "  <tbody>\n",
       "    <tr>\n",
       "      <th>0</th>\n",
       "      <td>3</td>\n",
       "      <td>4.508</td>\n",
       "      <td>19.202</td>\n",
       "    </tr>\n",
       "    <tr>\n",
       "      <th>1</th>\n",
       "      <td>4</td>\n",
       "      <td>0.096</td>\n",
       "      <td>7.734</td>\n",
       "    </tr>\n",
       "    <tr>\n",
       "      <th>2</th>\n",
       "      <td>4</td>\n",
       "      <td>3.133</td>\n",
       "      <td>13.811</td>\n",
       "    </tr>\n",
       "    <tr>\n",
       "      <th>5</th>\n",
       "      <td>6</td>\n",
       "      <td>3.211</td>\n",
       "      <td>17.822</td>\n",
       "    </tr>\n",
       "    <tr>\n",
       "      <th>7</th>\n",
       "      <td>5</td>\n",
       "      <td>3.413</td>\n",
       "      <td>17.264</td>\n",
       "    </tr>\n",
       "    <tr>\n",
       "      <th>...</th>\n",
       "      <td>...</td>\n",
       "      <td>...</td>\n",
       "      <td>...</td>\n",
       "    </tr>\n",
       "    <tr>\n",
       "      <th>91</th>\n",
       "      <td>8</td>\n",
       "      <td>2.730</td>\n",
       "      <td>19.564</td>\n",
       "    </tr>\n",
       "    <tr>\n",
       "      <th>94</th>\n",
       "      <td>8</td>\n",
       "      <td>3.919</td>\n",
       "      <td>24.451</td>\n",
       "    </tr>\n",
       "    <tr>\n",
       "      <th>95</th>\n",
       "      <td>6</td>\n",
       "      <td>3.561</td>\n",
       "      <td>19.128</td>\n",
       "    </tr>\n",
       "    <tr>\n",
       "      <th>96</th>\n",
       "      <td>3</td>\n",
       "      <td>0.301</td>\n",
       "      <td>5.609</td>\n",
       "    </tr>\n",
       "    <tr>\n",
       "      <th>98</th>\n",
       "      <td>7</td>\n",
       "      <td>0.309</td>\n",
       "      <td>12.027</td>\n",
       "    </tr>\n",
       "  </tbody>\n",
       "</table>\n",
       "<p>65 rows × 3 columns</p>\n",
       "</div>"
      ],
      "text/plain": [
       "    number_courses  time_study   grade\n",
       "0                3       4.508  19.202\n",
       "1                4       0.096   7.734\n",
       "2                4       3.133  13.811\n",
       "5                6       3.211  17.822\n",
       "7                5       3.413  17.264\n",
       "..             ...         ...     ...\n",
       "91               8       2.730  19.564\n",
       "94               8       3.919  24.451\n",
       "95               6       3.561  19.128\n",
       "96               3       0.301   5.609\n",
       "98               7       0.309  12.027\n",
       "\n",
       "[65 rows x 3 columns]"
      ]
     },
     "execution_count": 19,
     "metadata": {},
     "output_type": "execute_result"
    }
   ],
   "source": [
    "studied_less_than_5 = grades_df[grades_df.time_study < 5] #boolean until here... grades_df.grade > 50]\n",
    "studied_less_than_5"
   ]
  },
  {
   "cell_type": "code",
   "execution_count": 20,
   "id": "563915d2",
   "metadata": {},
   "outputs": [
    {
     "data": {
      "text/html": [
       "<div>\n",
       "<style scoped>\n",
       "    .dataframe tbody tr th:only-of-type {\n",
       "        vertical-align: middle;\n",
       "    }\n",
       "\n",
       "    .dataframe tbody tr th {\n",
       "        vertical-align: top;\n",
       "    }\n",
       "\n",
       "    .dataframe thead th {\n",
       "        text-align: right;\n",
       "    }\n",
       "</style>\n",
       "<table border=\"1\" class=\"dataframe\">\n",
       "  <thead>\n",
       "    <tr style=\"text-align: right;\">\n",
       "      <th></th>\n",
       "      <th>number_courses</th>\n",
       "      <th>time_study</th>\n",
       "      <th>grade</th>\n",
       "    </tr>\n",
       "  </thead>\n",
       "  <tbody>\n",
       "  </tbody>\n",
       "</table>\n",
       "</div>"
      ],
      "text/plain": [
       "Empty DataFrame\n",
       "Columns: [number_courses, time_study, grade]\n",
       "Index: []"
      ]
     },
     "execution_count": 20,
     "metadata": {},
     "output_type": "execute_result"
    }
   ],
   "source": [
    "studied_less_than_5 = grades_df[(grades_df.time_study < 5) & (grades_df.grade > 50)]\n",
    "studied_less_than_5\n",
    "# it is empty"
   ]
  },
  {
   "cell_type": "code",
   "execution_count": 21,
   "id": "79b49b99",
   "metadata": {},
   "outputs": [
    {
     "data": {
      "text/plain": [
       "43.27396666666667"
      ]
     },
     "execution_count": 21,
     "metadata": {},
     "output_type": "execute_result"
    }
   ],
   "source": [
    "# What is the average of student who studied more than six hours\n",
    "more_than_6 = grades_df[grades_df.time_study > 6]\n",
    "#dataframe[clause]\n",
    "more_than_6.grade.mean()"
   ]
  },
  {
   "cell_type": "code",
   "execution_count": 22,
   "id": "a13ef5ae",
   "metadata": {},
   "outputs": [
    {
     "data": {
      "text/html": [
       "<div>\n",
       "<style scoped>\n",
       "    .dataframe tbody tr th:only-of-type {\n",
       "        vertical-align: middle;\n",
       "    }\n",
       "\n",
       "    .dataframe tbody tr th {\n",
       "        vertical-align: top;\n",
       "    }\n",
       "\n",
       "    .dataframe thead th {\n",
       "        text-align: right;\n",
       "    }\n",
       "</style>\n",
       "<table border=\"1\" class=\"dataframe\">\n",
       "  <thead>\n",
       "    <tr style=\"text-align: right;\">\n",
       "      <th></th>\n",
       "      <th>count</th>\n",
       "      <th>mean</th>\n",
       "      <th>std</th>\n",
       "      <th>min</th>\n",
       "      <th>25%</th>\n",
       "      <th>50%</th>\n",
       "      <th>75%</th>\n",
       "      <th>max</th>\n",
       "    </tr>\n",
       "  </thead>\n",
       "  <tbody>\n",
       "    <tr>\n",
       "      <th>number_courses</th>\n",
       "      <td>30.0</td>\n",
       "      <td>5.833333</td>\n",
       "      <td>1.858500</td>\n",
       "      <td>3.000</td>\n",
       "      <td>4.00000</td>\n",
       "      <td>6.0000</td>\n",
       "      <td>7.000</td>\n",
       "      <td>8.000</td>\n",
       "    </tr>\n",
       "    <tr>\n",
       "      <th>time_study</th>\n",
       "      <td>30.0</td>\n",
       "      <td>6.965000</td>\n",
       "      <td>0.671996</td>\n",
       "      <td>6.049</td>\n",
       "      <td>6.34525</td>\n",
       "      <td>7.0585</td>\n",
       "      <td>7.579</td>\n",
       "      <td>7.957</td>\n",
       "    </tr>\n",
       "    <tr>\n",
       "      <th>grade</th>\n",
       "      <td>30.0</td>\n",
       "      <td>43.273967</td>\n",
       "      <td>7.628259</td>\n",
       "      <td>29.889</td>\n",
       "      <td>38.85550</td>\n",
       "      <td>41.7400</td>\n",
       "      <td>51.103</td>\n",
       "      <td>55.299</td>\n",
       "    </tr>\n",
       "  </tbody>\n",
       "</table>\n",
       "</div>"
      ],
      "text/plain": [
       "                count       mean       std     min       25%      50%     75%  \\\n",
       "number_courses   30.0   5.833333  1.858500   3.000   4.00000   6.0000   7.000   \n",
       "time_study       30.0   6.965000  0.671996   6.049   6.34525   7.0585   7.579   \n",
       "grade            30.0  43.273967  7.628259  29.889  38.85550  41.7400  51.103   \n",
       "\n",
       "                   max  \n",
       "number_courses   8.000  \n",
       "time_study       7.957  \n",
       "grade           55.299  "
      ]
     },
     "execution_count": 22,
     "metadata": {},
     "output_type": "execute_result"
    }
   ],
   "source": [
    "more_than_6.describe().T"
   ]
  },
  {
   "cell_type": "code",
   "execution_count": 23,
   "id": "f61c43fe",
   "metadata": {},
   "outputs": [
    {
     "name": "stdout",
     "output_type": "stream",
     "text": [
      "3     53.018\n",
      "4     55.299\n",
      "6     29.889\n",
      "9     30.862\n",
      "10    42.036\n",
      "17    38.490\n",
      "18    50.986\n",
      "21    35.939\n",
      "33    39.965\n",
      "35    43.978\n",
      "37    46.453\n",
      "38    41.358\n",
      "39    51.142\n",
      "50    40.602\n",
      "53    36.653\n",
      "54    53.158\n",
      "56    53.359\n",
      "57    51.583\n",
      "58    31.236\n",
      "59    51.343\n",
      "74    39.952\n",
      "76    36.746\n",
      "78    49.544\n",
      "80    54.321\n",
      "82    44.099\n",
      "85    39.957\n",
      "89    40.024\n",
      "93    42.426\n",
      "97    41.444\n",
      "99    32.357\n",
      "Name: grade, dtype: float64\n"
     ]
    }
   ],
   "source": [
    "print(more_than_6['grade'])"
   ]
  },
  {
   "cell_type": "code",
   "execution_count": 24,
   "id": "5fbb531c",
   "metadata": {},
   "outputs": [],
   "source": [
    "# first try\n",
    "#std = grades_df.rank()\n",
    "#std"
   ]
  },
  {
   "cell_type": "code",
   "execution_count": 25,
   "id": "773906f4",
   "metadata": {},
   "outputs": [
    {
     "name": "stdout",
     "output_type": "stream",
     "text": [
      "Standard Deviation: 14.326198570757976\n"
     ]
    }
   ],
   "source": [
    "# 1.\n",
    "std_dev = grades_df['grade'].std()\n",
    "grades_df['rank'] = grades_df['grade'].rank()\n",
    "min_grade = grades_df['grade'].min()\n",
    "max_grade = grades_df['grade'].max()\n",
    "grade_range = max_grade - min_grade\n",
    "grades_df['bell_curve_grades'] = 100 * (grades_df['grade'] - min_grade) / grade_range\n",
    "print(f\"Standard Deviation: {std_dev}\")"
   ]
  },
  {
   "cell_type": "code",
   "execution_count": 26,
   "id": "7780c08e",
   "metadata": {},
   "outputs": [
    {
     "name": "stdout",
     "output_type": "stream",
     "text": [
      "Number of students passing (with curve): 18\n"
     ]
    }
   ],
   "source": [
    "# 2.\n",
    "passing_students = grades_df[grades_df['bell_curve_grades'] >= 70].shape[0]\n",
    "print(f\"Number of students passing (with curve): {passing_students}\")"
   ]
  }
 ],
 "metadata": {
  "kernelspec": {
   "display_name": "Python 3 (ipykernel)",
   "language": "python",
   "name": "python3"
  },
  "language_info": {
   "codemirror_mode": {
    "name": "ipython",
    "version": 3
   },
   "file_extension": ".py",
   "mimetype": "text/x-python",
   "name": "python",
   "nbconvert_exporter": "python",
   "pygments_lexer": "ipython3",
   "version": "3.11.5"
  }
 },
 "nbformat": 4,
 "nbformat_minor": 5
}
