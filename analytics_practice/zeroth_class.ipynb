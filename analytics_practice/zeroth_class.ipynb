{
 "cells": [
  {
   "cell_type": "code",
   "execution_count": 1,
   "id": "2108c37b",
   "metadata": {},
   "outputs": [
    {
     "name": "stdout",
     "output_type": "stream",
     "text": [
      "True\n"
     ]
    }
   ],
   "source": [
    "if 1 == 10 or 2: \n",
    "    print (\"True\")"
   ]
  },
  {
   "cell_type": "code",
   "execution_count": 2,
   "id": "afdfa6bc",
   "metadata": {},
   "outputs": [
    {
     "name": "stdout",
     "output_type": "stream",
     "text": [
      "True\n"
     ]
    }
   ],
   "source": [
    "if 1==1 or 1==2:\n",
    "    print(\"True\")"
   ]
  },
  {
   "cell_type": "code",
   "execution_count": 3,
   "id": "33ace7c3",
   "metadata": {},
   "outputs": [
    {
     "name": "stdout",
     "output_type": "stream",
     "text": [
      "True\n"
     ]
    }
   ],
   "source": [
    "if 1== 10 or 2:\n",
    "    print(\"True\")"
   ]
  },
  {
   "cell_type": "code",
   "execution_count": 4,
   "id": "bf4975c2",
   "metadata": {},
   "outputs": [],
   "source": [
    "# INFINITE LOOP\n",
    "#CODE:\n",
    "#temperature = 115\n",
    "\n",
    "#while temparature > 100:\n",
    "    #print(temperature)\n",
    "    #tempertaure = temperature - 1\n",
    "    \n",
    "#print('The tea is cool enough')"
   ]
  },
  {
   "cell_type": "code",
   "execution_count": 5,
   "id": "7e5a9830",
   "metadata": {},
   "outputs": [],
   "source": [
    "#while True:\n",
    "    # comment: do work\n",
    "    #break"
   ]
  },
  {
   "cell_type": "code",
   "execution_count": 6,
   "id": "8eca01eb",
   "metadata": {},
   "outputs": [
    {
     "name": "stdout",
     "output_type": "stream",
     "text": [
      "1\n",
      "2\n",
      "3\n",
      "4\n",
      "5\n",
      "6\n",
      "7\n",
      "8\n",
      "9\n"
     ]
    }
   ],
   "source": [
    "for x in range(1,10):\n",
    "    print(x)"
   ]
  },
  {
   "cell_type": "code",
   "execution_count": 7,
   "id": "61f8e562",
   "metadata": {},
   "outputs": [
    {
     "name": "stdout",
     "output_type": "stream",
     "text": [
      "0\n",
      "1\n",
      "2\n",
      "3\n",
      "4\n",
      "5\n",
      "6\n",
      "7\n",
      "8\n",
      "9\n"
     ]
    }
   ],
   "source": [
    "for y in range(0,10):\n",
    "    print(y)"
   ]
  },
  {
   "cell_type": "code",
   "execution_count": 9,
   "id": "7244e356",
   "metadata": {},
   "outputs": [
    {
     "name": "stdout",
     "output_type": "stream",
     "text": [
      "This program displays even numbers in the same line\n",
      "0, 2, 4, 6, 8, "
     ]
    }
   ],
   "source": [
    "# This program demonstrates a simple for loop that uses a list of numbers.\n",
    "numbers = range(0,10,2) #This is list of zero and even numbers\n",
    "\n",
    "print('This program displays even numbers in the same line')\n",
    "\n",
    "# for x in numbers: #for every \"something\" in my list of \"stuff\"\n",
    "# do something\n",
    "\n",
    "for x in numbers:\n",
    "    print (x, end=\", \")"
   ]
  },
  {
   "cell_type": "code",
   "execution_count": 10,
   "id": "6dc834b6",
   "metadata": {},
   "outputs": [
    {
     "name": "stdout",
     "output_type": "stream",
     "text": [
      "0\n",
      "2\n",
      "4\n",
      "6\n",
      "8\n"
     ]
    }
   ],
   "source": [
    "for x in range(0,10,2):\n",
    "    print(x)"
   ]
  },
  {
   "cell_type": "code",
   "execution_count": 11,
   "id": "c153b5bb",
   "metadata": {},
   "outputs": [
    {
     "name": "stdout",
     "output_type": "stream",
     "text": [
      "Enter a number: 200\n",
      "False\n",
      "True\n",
      "40000\n"
     ]
    }
   ],
   "source": [
    "def getInput():\n",
    "    return int(input(\"Enter a number: \"))\n",
    "\n",
    "def odd_or_even(num):\n",
    "    if num % 2 == 1: \n",
    "        return True\n",
    "    return False\n",
    "\n",
    "def even_or_odd (num) :\n",
    "    if num % 2 == 0: \n",
    "        return True\n",
    "    return False\n",
    "\n",
    "def square (num) :\n",
    "    return num**2\n",
    "\n",
    "def main():\n",
    "    num = getInput ()\n",
    "    print(odd_or_even (num) )\n",
    "    print(even_or_odd (num) )\n",
    "    print (square (num) )\n",
    "    \n",
    "main()"
   ]
  },
  {
   "cell_type": "code",
   "execution_count": 18,
   "id": "50d57e93",
   "metadata": {},
   "outputs": [
    {
     "name": "stdout",
     "output_type": "stream",
     "text": [
      "Enter a word: w\n",
      "There are 0 uppers and 1 lowers\n"
     ]
    }
   ],
   "source": [
    "def case_sensitive(myword):\n",
    "    uppers = 0\n",
    "    lowers = 0\n",
    "    \n",
    "    for letter in myword:\n",
    "        if letter.isupper() == True:\n",
    "            uppers += 1\n",
    "        elif letter.islower() == True:\n",
    "            lowers += 1\n",
    "\n",
    "    print(f\"There are {uppers} uppers and {lowers} lowers\")\n",
    "\n",
    "def main():\n",
    "    word = input(\"Enter a word: \")\n",
    "    case_sensitive(word)\n",
    "\n",
    "main()"
   ]
  },
  {
   "cell_type": "code",
   "execution_count": 14,
   "id": "3c500b9e",
   "metadata": {},
   "outputs": [
    {
     "name": "stdout",
     "output_type": "stream",
     "text": [
      "hello world\n"
     ]
    }
   ],
   "source": [
    "def print_me(firstword, secondword):\n",
    "    print(secondword, firstword)\n",
    "\n",
    "print_me(\"world\", \"hello\")"
   ]
  },
  {
   "cell_type": "code",
   "execution_count": 15,
   "id": "24e58e8a",
   "metadata": {},
   "outputs": [
    {
     "name": "stdout",
     "output_type": "stream",
     "text": [
      "My car is a honda civic c a b\n"
     ]
    }
   ],
   "source": [
    "def myCar(alpha, beta, make=\"a\", model='b', year='c'):\n",
    "    print(f\"My car is a {alpha} {beta} {year} {make} {model}\")\n",
    "\n",
    "myCar (\"honda\",\"civic\")"
   ]
  },
  {
   "cell_type": "code",
   "execution_count": 19,
   "id": "89149ca4",
   "metadata": {},
   "outputs": [
    {
     "name": "stdout",
     "output_type": "stream",
     "text": [
      "Homo sapiens sapiens\n",
      "12\n"
     ]
    }
   ],
   "source": [
    "# CLASSES\n",
    "class Person:\n",
    "    \"\"\"This is a Person Class.\"\"\"\n",
    "\n",
    "    species = \"Homo sapiens sapiens\"\n",
    "    _age = 12\n",
    "\n",
    "    def __init__(self, fname, lname):\n",
    "        self.firstname = fname\n",
    "        self.lastname = lname\n",
    "        self.nickname = \"Snaggle\"\n",
    "\n",
    "    def printname(self):\n",
    "        print(self.firstname, self.lastname)\n",
    "\n",
    "    def getspecies(self):\n",
    "        return self.species\n",
    "\n",
    "    def setAge(self, age):\n",
    "        self._age = age\n",
    "\n",
    "    def printAge(self):\n",
    "        print(self._age)\n",
    "\n",
    "\n",
    "professor = Person(\"Sonyl\", \"Nagale\")\n",
    "student = Person(\"David\", \"Gantt\")\n",
    "\n",
    "print(professor.getspecies())\n",
    "professor.printAge()"
   ]
  },
  {
   "cell_type": "code",
   "execution_count": 20,
   "id": "c9400093",
   "metadata": {},
   "outputs": [
    {
     "name": "stdout",
     "output_type": "stream",
     "text": [
      "Homo sapiens sapiens\n"
     ]
    }
   ],
   "source": [
    "class Person:\n",
    "    \"\"\"This is a Person Class.\"\"\"\n",
    "\n",
    "    species = \"Homo sapiens sapiens\"\n",
    "    _age = 12\n",
    "\n",
    "    def __init__(self, fname, lname):\n",
    "        self.firstname = fname\n",
    "        self.lastname = lname\n",
    "        self.nickname = \"Snaggle\"\n",
    "\n",
    "    def printname(self):\n",
    "        print(self.firstname, self.lastname)\n",
    "\n",
    "    def getspecies(self):\n",
    "        return self.species\n",
    "\n",
    "    def setAge(self, age):\n",
    "        self._age = age\n",
    "\n",
    "    def printAge(self):\n",
    "        print(self._age)\n",
    "\n",
    "\n",
    "print(Person.species)\n",
    "\n",
    "# Uncomment these lines to test the class\n",
    "# professor = Person(\"Sonyl\", \"Nagale\")\n",
    "# student = Person(\"David\", \"Gantt\")\n",
    "\n",
    "# print(professor.getspecies())\n",
    "# professor.printAge()"
   ]
  },
  {
   "cell_type": "code",
   "execution_count": 21,
   "id": "8f13d2de",
   "metadata": {},
   "outputs": [
    {
     "name": "stdout",
     "output_type": "stream",
     "text": [
      "['CIS 2300']\n",
      "['CIS 2300', 'CIS 3120']\n",
      "['CIS 2300', 'CIS 3120', 'CIS 4300']\n"
     ]
    }
   ],
   "source": [
    "#Subclasses and Inheritance\n",
    "class Professor(Person):\n",
    "    _classes_taught = ['CIS 2300']\n",
    "\n",
    "    def __init__(self, fname, lname):\n",
    "        super().__init__(fname, lname)\n",
    "\n",
    "    def getClassesTaught(self):\n",
    "        return self._classes_taught\n",
    "\n",
    "    def addClass(self, className):\n",
    "        self._classes_taught.append(className)\n",
    "\n",
    "\n",
    "Sonyl = Professor(\"Sonyl\", \"Nagale\")\n",
    "\n",
    "print(Sonyl.getClassesTaught())\n",
    "\n",
    "Sonyl.addClass('CIS 3120')\n",
    "\n",
    "print(Sonyl.getClassesTaught())\n",
    "\n",
    "Sonyl.addClass(\"CIS 4300\")\n",
    "\n",
    "print(Sonyl.getClassesTaught())"
   ]
  },
  {
   "cell_type": "code",
   "execution_count": null,
   "id": "b8ee7d3e",
   "metadata": {},
   "outputs": [],
   "source": []
  }
 ],
 "metadata": {
  "kernelspec": {
   "display_name": "Python 3 (ipykernel)",
   "language": "python",
   "name": "python3"
  },
  "language_info": {
   "codemirror_mode": {
    "name": "ipython",
    "version": 3
   },
   "file_extension": ".py",
   "mimetype": "text/x-python",
   "name": "python",
   "nbconvert_exporter": "python",
   "pygments_lexer": "ipython3",
   "version": "3.11.5"
  }
 },
 "nbformat": 4,
 "nbformat_minor": 5
}
