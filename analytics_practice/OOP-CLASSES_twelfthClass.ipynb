{
 "cells": [
  {
   "cell_type": "code",
   "execution_count": 1,
   "id": "9b15cb54",
   "metadata": {},
   "outputs": [],
   "source": [
    "#PROCEDURAL PROGRAMMING\n",
    "\n",
    "# def main():\n",
    "# ...\n",
    "# while item\n",
    "# = 0:\n",
    "# ...\n",
    "# item = addItem ()\n",
    "# def removeltem (currentList):\n",
    "# .. .\n",
    "# return [currentList, item\n",
    "# def addItem ):\n",
    "# return item"
   ]
  },
  {
   "cell_type": "code",
   "execution_count": 2,
   "id": "98d532d3",
   "metadata": {},
   "outputs": [
    {
     "name": "stdout",
     "output_type": "stream",
     "text": [
      "Sonyl\n",
      "Sonyl Nagale\n"
     ]
    }
   ],
   "source": [
    "class Person:\n",
    "    \"\"\"This is a Person Class. It has a printname method\"\"\"\n",
    "    def __init__(self, name, lname):\n",
    "        self.firstname = name\n",
    "        self.lastname = lname\n",
    "\n",
    "    def printname(self):\n",
    "        print(self.firstname)\n",
    "        print(self.firstname, self.lastname)\n",
    "\n",
    "    def assignname(self):\n",
    "        self.firstname = 'hello'\n",
    "        self.lastname = 'world'\n",
    "\n",
    "# Create an object of the Person class\n",
    "y = Person(\"Sonyl\", \"Nagale\")\n",
    "\n",
    "# Call the assignname method to change the name\n",
    "# y.assignname()\n",
    "\n",
    "# Call the printname method to display the updated name\n",
    "y.printname()"
   ]
  },
  {
   "cell_type": "code",
   "execution_count": 3,
   "id": "22d53128",
   "metadata": {},
   "outputs": [
    {
     "name": "stdout",
     "output_type": "stream",
     "text": [
      "12345\n",
      "hello world\n"
     ]
    }
   ],
   "source": [
    "class MyClass:\n",
    "    \"\"\"A simple example class\"\"\"\n",
    "    i = 12345\n",
    "\n",
    "    def f(self):\n",
    "        return 'hello world'\n",
    "\n",
    "    def getNumber(self):\n",
    "        return self.i\n",
    "\n",
    "# Create an object of the MyClass class\n",
    "x = MyClass()\n",
    "\n",
    "# Call the f method and print the result\n",
    "print(x.getNumber())\n",
    "print(x.f())"
   ]
  },
  {
   "cell_type": "code",
   "execution_count": 4,
   "id": "e74c5972",
   "metadata": {},
   "outputs": [
    {
     "name": "stdout",
     "output_type": "stream",
     "text": [
      "Homo sapiens sapiens Homo sapiens sapiens\n",
      "Homo sapiens sapiens\n",
      "Sonyl is a Canis familiaris\n",
      "David is a Homo sapiens sapiens\n"
     ]
    }
   ],
   "source": [
    "class Person:\n",
    "    \"\"\"This is a Person Class. It has a printname method\"\"\"\n",
    "    species = \"Homo sapiens sapiens\"\n",
    "\n",
    "    def __init__(self, fname, lname):\n",
    "        self.firstname = fname\n",
    "        self.lastname = lname\n",
    "\n",
    "    def printname(self):\n",
    "        print(self.firstname, self.lastname)\n",
    "\n",
    "    def getspecies(self):\n",
    "        return self.species\n",
    "\n",
    "professor = Person(\"Sonyl\", \"Nagale\")\n",
    "student = Person(\"David\", \"Gantt\")\n",
    "student2 = Person(\"Bryan\", \"Sander\")\n",
    "\n",
    "# Correct method call and attribute access\n",
    "print(professor.getspecies(), student.getspecies())\n",
    "# Accessing class attribute directly\n",
    "print(Person.species)\n",
    "\n",
    "# Modifying instance attribute\n",
    "professor.species = \"Canis familiaris\"\n",
    "print(f\"{professor.firstname} is a {professor.species}\")\n",
    "\n",
    "# Accessing instance attribute\n",
    "print(f\"{student.firstname} is a {student.species}\")"
   ]
  },
  {
   "cell_type": "code",
   "execution_count": 5,
   "id": "20636db8",
   "metadata": {},
   "outputs": [],
   "source": [
    "def __init__(self, fname, lname):\n",
    "    self.firstname = fname\n",
    "    self.lastname = lname"
   ]
  },
  {
   "cell_type": "code",
   "execution_count": 6,
   "id": "a03544b6",
   "metadata": {},
   "outputs": [],
   "source": [
    "def __init__(self, fname, lname):\n",
    "    self_firstname = fname\n",
    "    self_lastname = lname"
   ]
  },
  {
   "cell_type": "code",
   "execution_count": 7,
   "id": "44e6ee45",
   "metadata": {},
   "outputs": [
    {
     "name": "stdout",
     "output_type": "stream",
     "text": [
      "Successfully changed\n",
      "00ga Booga\n",
      "David Gantt\n"
     ]
    }
   ],
   "source": [
    "class Person:\n",
    "    \"\"\"This is a Person Class. It has printname and changename methods\"\"\"\n",
    "    species = \"Homo sapiens sapiens\"\n",
    "\n",
    "    def __init__(self, fname, lname):\n",
    "        self._firstname = fname\n",
    "        self._lastname = lname\n",
    "\n",
    "    def printname(self):\n",
    "        print(self._firstname, self._lastname)\n",
    "\n",
    "    def changename(self, fname, lname):\n",
    "        self._firstname = fname\n",
    "        self._lastname = lname\n",
    "        print(\"Successfully changed\")\n",
    "\n",
    "# Creating instances of the Person class\n",
    "sonyl = Person(\"Sonyl\", \"Nagale\")\n",
    "david = Person(\"David\", \"Gantt\")\n",
    "\n",
    "# Changing Sonyl's name\n",
    "sonyl.changename(\"00ga\", \"Booga\")\n",
    "\n",
    "# Printing both names\n",
    "sonyl.printname()\n",
    "david.printname()"
   ]
  },
  {
   "cell_type": "code",
   "execution_count": 8,
   "id": "9d4a95be",
   "metadata": {},
   "outputs": [],
   "source": [
    "class Car:\n",
    "    def __init__(self, make, model, year):\n",
    "        self.__make = make\n",
    "        self.__model = model\n",
    "        self.__year = year\n",
    "        \n",
    "    def go(self):\n",
    "        pass\n",
    "    \n",
    "    def stop(self):\n",
    "        pass\n",
    "    \n",
    "myCar = Car(\"Honda\", \"Civic\", 2001)\n",
    "myCar.go()"
   ]
  },
  {
   "cell_type": "code",
   "execution_count": 9,
   "id": "61d5bf06",
   "metadata": {},
   "outputs": [
    {
     "name": "stdout",
     "output_type": "stream",
     "text": [
      "Canis familiaris\n",
      "Sonyl Nagale\n",
      "Friley Hall\n"
     ]
    }
   ],
   "source": [
    "class Person:\n",
    "    \"\"\"This is a Person Class. It has printname and changename methods\"\"\"\n",
    "    species = \"Homo sapiens sapiens\"\n",
    "\n",
    "    def __init__(self, fname, lname):\n",
    "        self._firstname = fname\n",
    "        self._lastname = lname\n",
    "\n",
    "    def printname(self):\n",
    "        print(self._firstname, self._lastname)\n",
    "\n",
    "    def changename(self, fname, lname):\n",
    "        self._firstname = fname\n",
    "        self._lastname = lname\n",
    "        print(\"Successfully changed\")\n",
    "\n",
    "class Student(Person):\n",
    "    \"\"\"This is a Student Class. It has printname and changename methods\"\"\"\n",
    "    \n",
    "    species = \"Canis familiaris\"\n",
    "    \n",
    "    _emails = {}\n",
    "    _level = \"freshman\"\n",
    "    dorm = \"Friley Hall\"\n",
    "\n",
    "    def getDorm(self):\n",
    "        return self.dorm\n",
    "\n",
    "    def setClass(self, level):\n",
    "        self._level = level\n",
    "\n",
    "    def getClass(self):\n",
    "        return self._level\n",
    "\n",
    "sonyl = Student(\"Sonyl\", \"Nagale\")\n",
    "# chris = Student(\"Chris\", \"Newman\")\n",
    "\n",
    "print(sonyl.species)\n",
    "sonyl.printname()\n",
    "# chris.printname()\n",
    "sonyl.getClass()\n",
    "print(sonyl.dorm)"
   ]
  },
  {
   "cell_type": "code",
   "execution_count": 10,
   "id": "2a868b72",
   "metadata": {},
   "outputs": [
    {
     "name": "stdout",
     "output_type": "stream",
     "text": [
      "Gas tank is now full.\n",
      "The Civic is now driving.\n",
      "The fuel level is now 12.84\n"
     ]
    }
   ],
   "source": [
    "class Vehicle:\n",
    "    def __init__(self, brand, model, type):\n",
    "        self.brand = brand\n",
    "        self.model = model\n",
    "        self.type = type\n",
    "        self.gas_tank_size = 14\n",
    "        self.fuel_level = 0\n",
    "        self.mpg = 50\n",
    "\n",
    "    def calculateGallons(self, driven):\n",
    "        return self.gas_tank_size - driven / self.mpg\n",
    "\n",
    "    def fuel_up(self):\n",
    "        self.fuel_level = self.gas_tank_size\n",
    "        print('Gas tank is now full.')\n",
    "\n",
    "    def drive(self, miles):\n",
    "        print(f\"The {self.model} is now driving.\")\n",
    "        self.update_fuel_level(self.calculateGallons(miles))\n",
    "        print(f\"The fuel level is now {self.fuel_level}\")\n",
    "\n",
    "    def update_fuel_level(self, new_level):\n",
    "        if new_level <= self.gas_tank_size:\n",
    "            self.fuel_level = new_level\n",
    "        else:\n",
    "            print('Exceeded capacity')\n",
    "\n",
    "    def get_gas(self, amount):\n",
    "        if self.fuel_level + amount <= self.gas_tank_size:\n",
    "            self.fuel_level += amount\n",
    "            print('Added fuel.')\n",
    "        else:\n",
    "            print('The tank won\\'t hold that much.')\n",
    "\n",
    "def main():\n",
    "    myCar = Vehicle('Honda', 'Civic', '4-Door')\n",
    "    myCar.fuel_up()\n",
    "    myCar.drive(58)\n",
    "\n",
    "if __name__ == \"__main__\":\n",
    "    main()"
   ]
  },
  {
   "cell_type": "code",
   "execution_count": 11,
   "id": "b5240727",
   "metadata": {},
   "outputs": [
    {
     "name": "stdout",
     "output_type": "stream",
     "text": [
      "The vehicle is now charged with a range of 390 miles\n",
      "The Tesla Model S has driven 300 miles and has a remaining charge of 90 miles\n"
     ]
    }
   ],
   "source": [
    "class ElectricVehicle(Vehicle):\n",
    "    def __init__(self, brand, model, type):\n",
    "        super().__init__(brand, model, type)\n",
    "        self.charge_level = 390\n",
    "        self.battery_capacity = 390  # More descriptive name\n",
    "\n",
    "    def calculateGallons(self, driven):\n",
    "        print('This vehicle has no fuel tank!')\n",
    "\n",
    "    def calculateCharge(self, driven):\n",
    "        self.charge_level -= driven\n",
    "        return self.charge_level  # Return the updated level, not required for internal use\n",
    "\n",
    "    def charge(self):\n",
    "        self.charge_level = self.battery_capacity\n",
    "        print(f'The vehicle is now charged with a range of {self.charge_level} miles')\n",
    "\n",
    "    def fuel_up(self):\n",
    "        print('This vehicle has no fuel tank!')\n",
    "\n",
    "    def drive(self, miles):\n",
    "        if self.charge_level >= miles:\n",
    "            print(f\"The {self.brand} {self.model} has driven {miles} miles and has a remaining charge of {self.charge_level - miles} miles\")\n",
    "            self.charge_level -= miles\n",
    "        else:\n",
    "            print(f\"Insufficient charge to drive {miles} miles. Current charge is {self.charge_level} miles.\")\n",
    "\n",
    "nyTesla = ElectricVehicle('Tesla', 'Model S', '4-door')\n",
    "nyTesla.charge()\n",
    "nyTesla.drive(300)"
   ]
  },
  {
   "cell_type": "code",
   "execution_count": 12,
   "id": "5b4b8d4e",
   "metadata": {},
   "outputs": [
    {
     "name": "stdout",
     "output_type": "stream",
     "text": [
      "The vehicle is now charged with a range of 390 miles\n",
      "The Tesla Model S has driven 300 miles and has a remaining charge of 90 miles\n",
      "4-door\n"
     ]
    }
   ],
   "source": [
    "class ElectricVehicle(Vehicle):\n",
    "    def __init__(self, brand, model, type):\n",
    "        super().__init__(brand, model, type)\n",
    "        self.charge_level = 390\n",
    "        self._charge_max = 390  # Consider renaming to battery_capacity for clarity\n",
    "\n",
    "    def calculateGallons(self, driven):\n",
    "        print('This vehicle has no fuel tank!')\n",
    "\n",
    "    def calculateCharge(self, driven):\n",
    "        self.charge_level -= driven  # Directly update charge level\n",
    "\n",
    "    def charge(self):\n",
    "        self.charge_level = self._charge_max\n",
    "        print(f'The vehicle is now charged with a range of {self.charge_level} miles')\n",
    "\n",
    "    def fuel_up(self):\n",
    "        print('This vehicle has no fuel tank!')\n",
    "\n",
    "    def drive(self, miles):\n",
    "        print(f\"The {self.brand} {self.model} has driven {miles} miles and has a remaining charge of {self.charge_level - miles} miles\")\n",
    "        self.calculateCharge(miles)  # Update charge level after driving\n",
    "\n",
    "myTesla = ElectricVehicle('Tesla', 'Model S', '4-door')\n",
    "myTesla.charge()\n",
    "myTesla.drive(300)\n",
    "print(myTesla.type)"
   ]
  }
 ],
 "metadata": {
  "kernelspec": {
   "display_name": "Python 3 (ipykernel)",
   "language": "python",
   "name": "python3"
  },
  "language_info": {
   "codemirror_mode": {
    "name": "ipython",
    "version": 3
   },
   "file_extension": ".py",
   "mimetype": "text/x-python",
   "name": "python",
   "nbconvert_exporter": "python",
   "pygments_lexer": "ipython3",
   "version": "3.11.5"
  }
 },
 "nbformat": 4,
 "nbformat_minor": 5
}
