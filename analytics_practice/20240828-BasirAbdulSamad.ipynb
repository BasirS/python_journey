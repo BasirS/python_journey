{
 "cells": [
  {
   "cell_type": "code",
   "execution_count": 1,
   "id": "d5d2c30d",
   "metadata": {},
   "outputs": [
    {
     "data": {
      "text/plain": [
       "(  alert  cdi      code                                             detail  \\\n",
       " 0   NaN  NaN  37389218  https://earthquake.usgs.gov/fdsnws/event/1/que...   \n",
       " 1   NaN  NaN  37389202  https://earthquake.usgs.gov/fdsnws/event/1/que...   \n",
       " 2   NaN  4.4  37389194  https://earthquake.usgs.gov/fdsnws/event/1/que...   \n",
       " 3   NaN  NaN  37389186  https://earthquake.usgs.gov/fdsnws/event/1/que...   \n",
       " 4   NaN  NaN  73096941  https://earthquake.usgs.gov/fdsnws/event/1/que...   \n",
       " \n",
       "        dmin  felt    gap           ids   mag magType  ...  sources     status  \\\n",
       " 0  0.008693   NaN   85.0  ,ci37389218,  1.35      ml  ...     ,ci,  automatic   \n",
       " 1  0.020030   NaN   79.0  ,ci37389202,  1.29      ml  ...     ,ci,  automatic   \n",
       " 2  0.021370  28.0   21.0  ,ci37389194,  3.42      ml  ...     ,ci,  automatic   \n",
       " 3  0.026180   NaN   39.0  ,ci37389186,  0.44      ml  ...     ,ci,  automatic   \n",
       " 4  0.077990   NaN  192.0  ,nc73096941,  2.16      md  ...     ,nc,  automatic   \n",
       " \n",
       "             time                          title  tsunami        type  \\\n",
       " 0  1539475168010  M 1.4 - 9km NE of Aguanga, CA        0  earthquake   \n",
       " 1  1539475129610  M 1.3 - 9km NE of Aguanga, CA        0  earthquake   \n",
       " 2  1539475062610  M 3.4 - 8km NE of Aguanga, CA        0  earthquake   \n",
       " 3  1539474978070  M 0.4 - 9km NE of Aguanga, CA        0  earthquake   \n",
       " 4  1539474716050  M 2.2 - 10km NW of Avenal, CA        0  earthquake   \n",
       " \n",
       "                                                types     tz        updated  \\\n",
       " 0         ,geoserve,nearby-cities,origin,phase-data, -480.0  1539475395144   \n",
       " 1         ,geoserve,nearby-cities,origin,phase-data, -480.0  1539475253925   \n",
       " 2  ,dyfi,focal-mechanism,geoserve,nearby-cities,o... -480.0  1539536756176   \n",
       " 3         ,geoserve,nearby-cities,origin,phase-data, -480.0  1539475196167   \n",
       " 4  ,geoserve,nearby-cities,origin,phase-data,scit... -480.0  1539477547926   \n",
       " \n",
       "                                                  url  \n",
       " 0  https://earthquake.usgs.gov/earthquakes/eventp...  \n",
       " 1  https://earthquake.usgs.gov/earthquakes/eventp...  \n",
       " 2  https://earthquake.usgs.gov/earthquakes/eventp...  \n",
       " 3  https://earthquake.usgs.gov/earthquakes/eventp...  \n",
       " 4  https://earthquake.usgs.gov/earthquakes/eventp...  \n",
       " \n",
       " [5 rows x 26 columns],\n",
       "                        time  latitude  longitude   depth   mag magType   nst  \\\n",
       " 0  2023-01-01T00:49:25.294Z   52.0999   178.5218  82.770  3.10      ml  14.0   \n",
       " 1  2023-01-01T01:41:43.755Z    7.1397   126.7380  79.194  4.50      mb  32.0   \n",
       " 2  2023-01-01T03:29:31.070Z   19.1631   -66.5251  24.000  3.93      md  23.0   \n",
       " 3  2023-01-01T04:09:32.814Z   -4.7803   102.7675  63.787  4.30      mb  17.0   \n",
       " 4  2023-01-01T04:29:13.793Z   53.3965  -166.9417  10.000  3.00      ml  19.0   \n",
       " \n",
       "      gap    dmin   rms  ...                   updated  \\\n",
       " 0  139.0  0.8700  0.18  ...  2023-03-11T22:51:52.040Z   \n",
       " 1  104.0  1.1520  0.47  ...  2023-03-11T22:51:45.040Z   \n",
       " 2  246.0  0.8479  0.22  ...  2023-03-11T22:51:29.040Z   \n",
       " 3  187.0  0.4570  0.51  ...  2023-03-11T22:51:45.040Z   \n",
       " 4  190.0  0.4000  0.31  ...  2023-03-11T22:51:38.040Z   \n",
       " \n",
       "                                    place        type horizontalError  \\\n",
       " 0  Rat Islands, Aleutian Islands, Alaska  earthquake            8.46   \n",
       " 1        23 km ESE of Manay, Philippines  earthquake            5.51   \n",
       " 2                     Puerto Rico region  earthquake            0.91   \n",
       " 3     99 km SSW of Pagar Alam, Indonesia  earthquake           10.25   \n",
       " 4          59 km SSW of Unalaska, Alaska  earthquake            1.41   \n",
       " \n",
       "   depthError  magError  magNst    status  locationSource magSource  \n",
       " 0     21.213     0.097    14.0  reviewed              us        us  \n",
       " 1      7.445     0.083    43.0  reviewed              us        us  \n",
       " 2     15.950     0.090    16.0  reviewed              pr        pr  \n",
       " 3      6.579     0.238     5.0  reviewed              us        us  \n",
       " 4      1.999     0.085    18.0  reviewed              us        us  \n",
       " \n",
       " [5 rows x 22 columns])"
      ]
     },
     "execution_count": 1,
     "metadata": {},
     "output_type": "execute_result"
    }
   ],
   "source": [
    "# assignment: combining two datasets given the \"time\" column and then, converting the time values in the earthquakes.csv from its numerical representation of time (timestamp) \n",
    "import pandas as pd\n",
    "\n",
    "# first step to load both the earthquake csv datasets through pandas\n",
    "earthquakes = pd.read_csv('earthquakes.csv') # fully numerical time (UNIX timestamps)\n",
    "earthquakes_2023_global = pd.read_csv('earthquakes_2023_global.csv') # standard date and time\n",
    "    \n",
    "# get an idea of each dataset's structure (mainly for time columns)\n",
    "earthquakes.head(), earthquakes_2023_global.head()"
   ]
  },
  {
   "cell_type": "code",
   "execution_count": 2,
   "id": "dc41f535",
   "metadata": {},
   "outputs": [
    {
     "data": {
      "text/plain": [
       "0    2018-10-13 23:59:28.010000\n",
       "1    2018-10-13 23:58:49.610000\n",
       "2    2018-10-13 23:57:42.610000\n",
       "3    2018-10-13 23:56:18.070000\n",
       "4    2018-10-13 23:51:56.050000\n",
       "Name: time, dtype: object"
      ]
     },
     "execution_count": 2,
     "metadata": {},
     "output_type": "execute_result"
    }
   ],
   "source": [
    "# modifying the time format in earthquake.csv to be more readable\n",
    "earthquakes['time'] = pd.to_datetime(earthquakes['time'], unit = 'ms')\n",
    "\n",
    "# doing the same for earthquakes_2023_global.csv to ensure both have the same time format\n",
    "earthquakes_2023_global['time'] = pd.to_datetime(earthquakes_2023_global['time'])\n",
    "\n",
    "# next merging the two time columns\n",
    "merged_earthquakes = pd.concat([earthquakes, earthquakes_2023_global], ignore_index = True)\n",
    "\n",
    "# displaying the merged columns to confirm\n",
    "merged_earthquakes['time'].head()"
   ]
  },
  {
   "cell_type": "code",
   "execution_count": 3,
   "id": "ecb57270",
   "metadata": {},
   "outputs": [
    {
     "name": "stdout",
     "output_type": "stream",
     "text": [
      "February 2024\n",
      "Mo Tu We Th Fr Sa Su\n",
      "          1  2  3  4 \n",
      " 5  6  7  8  9 10 11 \n",
      "12 13 14 15 16 17 18 \n",
      "19 20 21 22 23 24 25 \n",
      "26 27 28 29 \n"
     ]
    }
   ],
   "source": [
    "# importing calendar to create a full calendar with earthquake markers\n",
    "import calendar\n",
    "\n",
    "# using the given code while changing bits of it in a lot of ways\n",
    "def earthquake_calendar(year, month):\n",
    "    earthquakes_in_month = merged_earthquakes[\n",
    "        (merged_earthquakes['time'].apply(lambda x: x.year) == year) &\n",
    "        (merged_earthquakes['time'].apply(lambda x: x.month) == month)\n",
    "    ]\n",
    "    \n",
    "    # fetching the data on days when earthquakes occurred\n",
    "    earthquake_days = earthquakes_in_month['time'].apply(lambda x: x.day).unique() \n",
    "    \n",
    "    first_weekday, days_in_month = calendar.monthrange(year, month)\n",
    "    \n",
    "    day_counter = 1\n",
    "    output_str = f\"{calendar.month_name[month]} {year}\\n\"\n",
    "    output_str += \"Mo Tu We Th Fr Sa Su\\n\"\n",
    "    \n",
    "    # adding spacing for the first week\n",
    "    output_str += \"   \" * first_weekday\n",
    "    \n",
    "    # loop over each day of the month\n",
    "    while day_counter <= days_in_month:\n",
    "        for weekday in range(first_weekday, 7): \n",
    "            if day_counter > days_in_month:\n",
    "                break  # to break the loop once the last day is reached\n",
    "            \n",
    "            # 'X' gets printed for earthquake days, otherwise the day number\n",
    "            if day_counter in earthquake_days:\n",
    "                output_str += \" X \"\n",
    "            else:\n",
    "                output_str += f\"{day_counter:2d} \"\n",
    "            \n",
    "            # move to the next line after Saturday\n",
    "            if (weekday + 1) % 7 == 0:\n",
    "                output_str += \"\\n\"\n",
    "            \n",
    "            day_counter += 1\n",
    "        first_weekday = 0\n",
    "\n",
    "    return output_str\n",
    "\n",
    "# testing with the given month and year!\n",
    "print(earthquake_calendar(2024, 2))"
   ]
  },
  {
   "cell_type": "markdown",
   "id": "c2808cad",
   "metadata": {},
   "source": [
    "Output shows that there were no earthquakes that occurred in February 2024 because no \"X\" appeared on the calendar. However, when running it again on December 2023 this time, there were multiple occurrences of earthquakes throughout that month as the \"X\" appeared everywhere except on a Saturday and a Sunday, 30th and 31st, respectively. Filtering data through the apply(lambda x:) for both year and month culminated such code to extract the year and month from the time column of merged_earthquakes dataset. To be honest, this was very intriguing for me."
   ]
  }
 ],
 "metadata": {
  "kernelspec": {
   "display_name": "Python 3 (ipykernel)",
   "language": "python",
   "name": "python3"
  },
  "language_info": {
   "codemirror_mode": {
    "name": "ipython",
    "version": 3
   },
   "file_extension": ".py",
   "mimetype": "text/x-python",
   "name": "python",
   "nbconvert_exporter": "python",
   "pygments_lexer": "ipython3",
   "version": "3.11.5"
  }
 },
 "nbformat": 4,
 "nbformat_minor": 5
}
