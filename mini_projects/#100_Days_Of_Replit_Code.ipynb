{
 "cells": [
  {
   "cell_type": "code",
   "execution_count": 21,
   "id": "2645a564",
   "metadata": {},
   "outputs": [
    {
     "name": "stdout",
     "output_type": "stream",
     "text": [
      "Basir Abdul Samad\n",
      "August 17th 2024\n",
      "I am signing up for Replit's 100 days of Python challenge!\n",
      "I will make sure to spend some time every day coding along, for a minimum of 10 minutes a day.\n",
      "I'll be using Replit, an amazing online IDE so I can do this from my phone wherever I happend to be. No excuses for not coding from the middle of a field!\n",
      "I am feeling 😈\n",
      "You can follow my progress at replit.com/@abdulbasirsamad\n"
     ]
    }
   ],
   "source": [
    "print(\"Basir Abdul Samad\")\n",
    "print(\"August 17th 2024\")\n",
    "print(\"\"\"I am signing up for Replit's 100 days of Python challenge!\n",
    "I will make sure to spend some time every day coding along, for a minimum of 10 minutes a day.\n",
    "I'll be using Replit, an amazing online IDE so I can do this from my phone wherever I happend to be. No excuses for not coding from the middle of a field!\"\"\")\n",
    "print(\"I am feeling 😈\")\n",
    "print(\"You can follow my progress at replit.com/@abdulbasirsamad\")"
   ]
  },
  {
   "cell_type": "code",
   "execution_count": 22,
   "id": "93228007",
   "metadata": {},
   "outputs": [
    {
     "name": "stdout",
     "output_type": "stream",
     "text": [
      "Hello \n",
      " is my favorite food too!\n",
      " means you have great music taste!\n",
      " is an amazing place to live!\n",
      "So your name is , your favorite food is , your favorite music is , and you live in . You are overall a very intriguing person, !\n"
     ]
    }
   ],
   "source": [
    "name = input(\"What is your name? \")\n",
    "print(\"Hello \" + name)\n",
    "\n",
    "fav_food = input(\"What is your favorite food? \")\n",
    "print(fav_food + \" is my favorite food too!\")\n",
    "\n",
    "fav_music = input(\"What is your favorite music? \")\n",
    "print(fav_music + \" means you have great music taste!\")\n",
    "\n",
    "location = input(\"Where do you live? \")\n",
    "print(location + \" is an amazing place to live!\")\n",
    "\n",
    "print(\"So your name is \" + name + \", your favorite food is \" + fav_food + \n",
    "  \", your favorite music is \" + fav_music + \", and you live in \" + \n",
    "  location + \".\" + \" You are overall a very intriguing person, \" + name + \"!\")"
   ]
  },
  {
   "cell_type": "code",
   "execution_count": 23,
   "id": "9a2d3247",
   "metadata": {},
   "outputs": [
    {
     "name": "stdout",
     "output_type": "stream",
     "text": [
      "=== Your Ultimate Wacky Recipe Maker ===\n",
      " \n",
      "You'll be asked a bunch of questions.\n",
      "Then, we will make you up an amazing\n",
      "dish for today's evening meal!\n",
      "\n",
      "Your Tonight's Dinner:\n",
      "  with   on a bed of \n"
     ]
    }
   ],
   "source": [
    "print(\"=== Your Ultimate Wacky Recipe Maker ===\")\n",
    "print(\" \")\n",
    "print(\"\"\"You'll be asked a bunch of questions.\n",
    "Then, we will make you up an amazing\n",
    "dish for today's evening meal!\"\"\")\n",
    "print()\n",
    "food = input(\"Name a food: \")\n",
    "plant = input(\"Give me a type of plant: \")\n",
    "method = input(\"What is a method for cooking something? \")\n",
    "burned_food = input(\"Give me a word that describes burned food: \")\n",
    "household_item = input(\"Lastly, name a sharp item: \")\n",
    "print(\"\"\"Your Tonight's Dinner:\"\"\")\n",
    "print(method, food, \"with\", burned_food, plant, \"on a bed of\", household_item)"
   ]
  },
  {
   "cell_type": "code",
   "execution_count": 24,
   "id": "4ab8b89a",
   "metadata": {},
   "outputs": [
    {
     "name": "stdout",
     "output_type": "stream",
     "text": [
      "Welcome to your very own ADVENTURE SIMULATOR!\n",
      "\n",
      "You'll be asked a few questions. \n",
      "Then, using your responses, we'll craft \n",
      "an epic story with you as the main character!😎🤩\n",
      "\n",
      "\n",
      "We are now generating your story...\n",
      "\n",
      "One day,  was watching  in \n",
      "the theater when  leaped out of the screen during the\n",
      "movie's climax.  was shocked, about to scream, \n",
      "but , who was by 's side, helped them \n",
      "realize their new superpower: !\n",
      "\n",
      " felt a rush of confidence and was no longer afraid of . \n",
      "After all, with the power of ,  knew it was up to \n",
      "them to protect , no matter what.\n",
      "\n",
      "Harnessing the full extent of  power,  \n",
      "connected  with 's strength and together, \n",
      "they managed to throw  into .\n",
      "\n",
      "With  defeated,  and  celebrated \n",
      "by visiting , where they lived happily ever after.\n",
      "\n",
      "The End. Thanks for playing!\n"
     ]
    }
   ],
   "source": [
    "print(\"Welcome to your very own ADVENTURE SIMULATOR!\")\n",
    "print()\n",
    "print(\"\"\"You'll be asked a few questions. \n",
    "Then, using your responses, we'll craft \n",
    "an epic story with you as the main character!😎🤩\"\"\")\n",
    "print()\n",
    "\n",
    "name = input(\"What is your name? \")\n",
    "pronouns = input(\"What are your pronouns (his/her/their)? \")\n",
    "superpower = input(\"Name a power from your dreams: \")\n",
    "enemy = input(\"Name your arch-enemy: \")\n",
    "favorite = input(\"What is the name of your favorite person? \")\n",
    "fav_series = input(\"Name your favorite series (movie or show): \")\n",
    "fictional_favplace = input(\"What is your favorite place from the series? \")\n",
    "fictional_badplace = input(\"What is a place you hate the most from the series? \")\n",
    "print()\n",
    "print(\"We are now generating your story...\")\n",
    "print()\n",
    "\n",
    "print(f\"\"\"One day, {name} was watching {fav_series} in \n",
    "the theater when {enemy} leaped out of the screen during the\n",
    "movie's climax. {name} was shocked, about to scream, \n",
    "but {favorite}, who was by {name}'s side, helped them \n",
    "realize their new superpower: {superpower}!\n",
    "\n",
    "{name} felt a rush of confidence and was no longer afraid of {enemy}. \n",
    "After all, with the power of {superpower}, {name} knew it was up to \n",
    "them to protect {favorite}, no matter what.\n",
    "\n",
    "Harnessing the full extent of {pronouns} power, {name} \n",
    "connected {superpower} with {favorite}'s strength and together, \n",
    "they managed to throw {enemy} into {fictional_badplace}.\n",
    "\n",
    "With {enemy} defeated, {name} and {favorite} celebrated \n",
    "by visiting {fictional_favplace}, where they lived happily ever after.\"\"\")\n",
    "\n",
    "print()\n",
    "print(\"The End. Thanks for playing!\")"
   ]
  },
  {
   "cell_type": "code",
   "execution_count": 25,
   "id": "d035415d",
   "metadata": {},
   "outputs": [
    {
     "name": "stdout",
     "output_type": "stream",
     "text": [
      "Marvel Movie Character Creator\n",
      "--\n",
      "Then, you aren't superman...\n",
      " \n",
      "You weren't Korg all along, huh.\n",
      " \n",
      "My bad, you're not Captain Marvel.\n"
     ]
    }
   ],
   "source": [
    "print(\"Marvel Movie Character Creator\")\n",
    "print(\"--\")\n",
    "yourCharacter = input(\"Do you like 'flying in the sky'?: \")\n",
    "if yourCharacter == \"Yes\":\n",
    "  print(\"Omg, you're superman!\")\n",
    "else:\n",
    "  print(\"Then, you aren't superman...\")\n",
    "print(\" \")\n",
    "yourVoice = input(\"Do you have a 'gravelly' voice?: \")\n",
    "if yourVoice == \"Yes\":\n",
    "  print(\"Didn't expect you to be Korg!\")\n",
    "else:\n",
    "  print(\"You weren't Korg all along, huh.\")\n",
    "print(\" \")\n",
    "yourFeelings = input(\"Do you often feel 'Marvelous'?: \")\n",
    "if yourFeelings == \"Yes\":\n",
    "  print(\"Aha! You're Captain Marvel! Hi!\")\n",
    "else:\n",
    "  print(\"My bad, you're not Captain Marvel.\")"
   ]
  },
  {
   "cell_type": "code",
   "execution_count": 26,
   "id": "60ca5923",
   "metadata": {},
   "outputs": [
    {
     "name": "stdout",
     "output_type": "stream",
     "text": [
      "=== Your Very Own Greeting Generator ===\n",
      " \n",
      "Your presence is neither required nor desired; kindly be gone.\n"
     ]
    }
   ],
   "source": [
    "print(\"=== Your Very Own Greeting Generator ===\")\n",
    "print(\" \")\n",
    "username = input(\"Enter your name: \")\n",
    "password = input(\"Enter your password: \")\n",
    "\n",
    "if username == \"Basir\" and password == \"B@$eeR\":\n",
    "  print(\"It is an honor beyond words to bask in your noble presence. Welcome, Basir!\")\n",
    "elif username == \"Abdul\" and password == \"a6duL\":\n",
    "  print(\"A most distinguished welcome to one of such esteemed stature. Welcome, Abdul!\")\n",
    "elif username == \"Abdullah\" and password == \"@6dulL@h\":\n",
    "  print(\"Welcome, King Abdullah, may this moment be as magnificent as your person.\")\n",
    "else:\n",
    "  print(\"Your presence is neither required nor desired; kindly be gone.\")"
   ]
  },
  {
   "cell_type": "code",
   "execution_count": 27,
   "id": "14865069",
   "metadata": {},
   "outputs": [
    {
     "name": "stdout",
     "output_type": "stream",
     "text": [
      "Welcome to Fake Fan Question Generator\n",
      " \n",
      "Wanna find out if someone else is a true superfan\n",
      "of the same show, movie or interest as you?\n",
      "--\n",
      "Maybe, you need to watch more TV shows.\n"
     ]
    }
   ],
   "source": [
    "print(\"Welcome to Fake Fan Question Generator\")\n",
    "print(\" \")\n",
    "print(\"\"\"Wanna find out if someone else is a true superfan\n",
    "of the same show, movie or interest as you?\"\"\")\n",
    "print(\"--\")\n",
    "bestSeries = input(\"What is your favorite TV series right now? \")\n",
    "\n",
    "if bestSeries == \"The Boys\":\n",
    "  print(\"You are a true legend, you know that?\")\n",
    "  bestChar = input(\"Who is your favorite character? \")\n",
    "  if bestChar == \"billy\":\n",
    "    print(\"Neat. Billy Butcher is indeed the best one there is.\")\n",
    "  else: \n",
    "      print(\"Try watching the show again to get to know the main character better.\")\n",
    "elif bestSeries == \"Breaking Bad\":\n",
    "    print(\"You’re all about that Heisenberg hustle, huh?\")\n",
    "    bestEpi = input(\"What is your favorite episode? \")\n",
    "    if bestEpi == \"Ozymandias\":\n",
    "      print(\"Valid. You are a true fan.\")\n",
    "    else:\n",
    "      print(\"That episode is not bad, but not the best one.\")\n",
    "else:\n",
    "  print(\"Maybe, you need to watch more TV shows.\")"
   ]
  },
  {
   "cell_type": "code",
   "execution_count": 28,
   "id": "dfd962e8",
   "metadata": {},
   "outputs": [
    {
     "name": "stdout",
     "output_type": "stream",
     "text": [
      "Yo. Here is your daily affirmation generator...\n",
      " \n",
      "I do not know your name, but I hope you are having a great day!\n"
     ]
    }
   ],
   "source": [
    "print(\"Yo. Here is your daily affirmation generator...\")\n",
    "print(\" \")\n",
    "name = input(\"What is your name? \")\n",
    "\n",
    "if name == \"Muhammad\" or name == \"muhammad\":\n",
    " DOW = input(\"What is the day of the week? \")\n",
    " if DOW == \"monday\" or DOW == \"Monday\":\n",
    "   print(\"Here's to a start of a dreadful week,\", name)\n",
    " if DOW == \"tuesday\" or DOW == \"Tuesday\":\n",
    "   print(\"Tuesdays are the busiest ain't it\", name)\n",
    " if DOW == \"wednesday\" or DOW == \"Wednesday\":\n",
    "   print(\"Happy Hump Day!\", name)\n",
    " if DOW == \"thursday\" or DOW == \"Thursday\":\n",
    "   print(name,\"Your week is finally almost over!\")\n",
    " if DOW == \"friday\" or DOW == \"Friday\":\n",
    "   print(name, \"It's Jummah!!\")\n",
    "\n",
    "elif name == \"Ibrahim\" or name== \"ibrahim\":\n",
    " DOW = input(\"What is the day of the week? \")\n",
    " if DOW == \"monday\" or DOW == \"Monday\":\n",
    "   print(\"You already look tired when it's just the start of the week!\", name)\n",
    " if DOW == \"tuesday\" or DOW == \"Tuesday\":\n",
    "   print(\"You look great in that color\", name)\n",
    " if DOW == \"wednesday\" or DOW == \"Wednesday\":\n",
    "   print(\"It is going to be a fun Wednesday\", name)\n",
    " if DOW == \"thursday\" or DOW == \"Thursday\":\n",
    "   print(name,\"Thursday's are chill.\")\n",
    " if DOW == \"friday\" or DOW == \"Friday\":\n",
    "   print(name, \"omg Friday's already here?\")\n",
    "else:\n",
    " print(\"I do not know your name, but I hope you are having a great day!\")"
   ]
  },
  {
   "cell_type": "code",
   "execution_count": 29,
   "id": "30f2676a",
   "metadata": {},
   "outputs": [
    {
     "name": "stdout",
     "output_type": "stream",
     "text": [
      "Welcome to Generation Generator\n",
      "\n",
      "Interested in learning what generation you are a part of?\n",
      "--\n",
      "Invalid input. Please enter a valid year.\n"
     ]
    }
   ],
   "source": [
    "print(\"Welcome to Generation Generator\")\n",
    "print(\"\")\n",
    "print(\"\"\"Interested in learning what generation you are a part of?\"\"\")\n",
    "print(\"--\")\n",
    "year_input = input(\"What year were you born? \")\n",
    "if year_input.isdigit():\n",
    "    year = int(year_input)\n",
    "    if year >= 1925 and year <= 1946:\n",
    "        print(\"You are a traditionalist, which means that you are very old to exist today!\")\n",
    "    elif year >= 1947 and year <= 1964:\n",
    "        print(\"You are a baby boomer, which means you belong to the second oldest generation!\")\n",
    "    elif year >= 1965 and year <= 1981:\n",
    "        print(\"You are a generation X, which means you belong to the third oldest generation!\")\n",
    "    elif year >= 1982 and year <= 1995:\n",
    "        print(\"You are a millenial, which means you are not very old!\")\n",
    "    elif year >= 1996 and year <= 2015:\n",
    "        print(\"You are a generation Z, which means you are not very young!\")\n",
    "    else:\n",
    "        print(\"OMG, you are either too old or too young to exist!\")\n",
    "else:\n",
    "    print(\"Invalid input. Please enter a valid year.\")"
   ]
  },
  {
   "cell_type": "code",
   "execution_count": 30,
   "id": "ec300270",
   "metadata": {},
   "outputs": [
    {
     "name": "stdout",
     "output_type": "stream",
     "text": [
      "---------- Your Bill Calculator ----------\n",
      "\n",
      "This tool calculates the total bill with a tip percentage and splits it among people.\n",
      "\n",
      "Total amount (including tip): 266.4\n",
      "Each person owes: 133.2\n"
     ]
    }
   ],
   "source": [
    "print(\"---------- Your Bill Calculator ----------\")\n",
    "print(\"\")\n",
    "print(\"This tool calculates the total bill with a tip percentage and splits it among people.\")\n",
    "print(\"\")\n",
    "\n",
    "total_bill = float(input(\"What was the total bill? \"))\n",
    "tip_percentage = int(input(\"What percentage of tip would you like to add (e.g., 10, 15, 20)? \"))\n",
    "\n",
    "total_with_tip = tip_percentage / 100 * total_bill + total_bill\n",
    "print(\"Total amount (including tip):\", round(total_with_tip, 2))\n",
    "\n",
    "people_count = int(input(\"How many people are splitting the bill? \"))\n",
    "per_person_amount = total_with_tip / people_count\n",
    "print(\"Each person owes:\", round(per_person_amount, 2))"
   ]
  },
  {
   "cell_type": "code",
   "execution_count": 31,
   "id": "93f25517",
   "metadata": {},
   "outputs": [],
   "source": [
    "# Day 11-100 pending because of running out of Replit credits/Repls where I cannot delete old projects and create new ones."
   ]
  }
 ],
 "metadata": {
  "kernelspec": {
   "display_name": "base",
   "language": "python",
   "name": "python3"
  },
  "language_info": {
   "codemirror_mode": {
    "name": "ipython",
    "version": 3
   },
   "file_extension": ".py",
   "mimetype": "text/x-python",
   "name": "python",
   "nbconvert_exporter": "python",
   "pygments_lexer": "ipython3",
   "version": "3.11.5"
  }
 },
 "nbformat": 4,
 "nbformat_minor": 5
}
