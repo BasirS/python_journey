{
 "cells": [
  {
   "cell_type": "code",
   "execution_count": 1,
   "id": "fac7dbbb",
   "metadata": {},
   "outputs": [
    {
     "name": "stdout",
     "output_type": "stream",
     "text": [
      "/Users/abdulbasir/anaconda3/bin/python\n",
      "Requirement already satisfied: playsound in /Users/abdulbasir/anaconda3/lib/python3.11/site-packages (1.3.0)\n"
     ]
    }
   ],
   "source": [
    "import sys\n",
    "print(sys.executable)\n",
    "\n",
    "!pip install playsound"
   ]
  },
  {
   "cell_type": "code",
   "execution_count": 2,
   "id": "e54fac88",
   "metadata": {},
   "outputs": [
    {
     "name": "stdout",
     "output_type": "stream",
     "text": [
      "00:00\n"
     ]
    }
   ],
   "source": [
    "import time\n",
    "from playsound import playsound\n",
    "from IPython.display import clear_output\n",
    "\n",
    "def alarm(hours):\n",
    "    time_elapsed = 0\n",
    "    \n",
    "    while time_elapsed < hours:\n",
    "        time.sleep(1)\n",
    "        time_elapsed += 1\n",
    "        \n",
    "        time_left = hours - time_elapsed\n",
    "        days_left = time_left // 24\n",
    "        hours_left = time_left % 24\n",
    "        \n",
    "        clear_output(wait=True)\n",
    "        print(f\"{days_left:02d}:{hours_left:02d}\")\n",
    "        \n",
    "    playsound(\"wawawa.wav\")\n",
    "\n",
    "days = int(input(\"How many days to wait: \"))\n",
    "hours = int(input(\"How many hours to wait: \"))\n",
    "total_hours = days * 24 + hours\n",
    "alarm(10)"
   ]
  },
  {
   "cell_type": "code",
   "execution_count": null,
   "id": "e3650411",
   "metadata": {},
   "outputs": [],
   "source": []
  },
  {
   "cell_type": "code",
   "execution_count": null,
   "id": "34b19e5b",
   "metadata": {},
   "outputs": [],
   "source": []
  }
 ],
 "metadata": {
  "kernelspec": {
   "display_name": "Python 3 (ipykernel)",
   "language": "python",
   "name": "python3"
  },
  "language_info": {
   "codemirror_mode": {
    "name": "ipython",
    "version": 3
   },
   "file_extension": ".py",
   "mimetype": "text/x-python",
   "name": "python",
   "nbconvert_exporter": "python",
   "pygments_lexer": "ipython3",
   "version": "3.11.5"
  }
 },
 "nbformat": 4,
 "nbformat_minor": 5
}
