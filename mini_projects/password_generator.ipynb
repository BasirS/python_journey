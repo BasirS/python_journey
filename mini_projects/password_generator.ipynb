{
 "cells": [
  {
   "cell_type": "code",
   "execution_count": 1,
   "id": "c04eeab3",
   "metadata": {},
   "outputs": [
    {
     "name": "stdout",
     "output_type": "stream",
     "text": [
      "Enter the minimum length: 2\n",
      "Do you want to have numbers (y/n)? y\n",
      "Do you want to have special characters (y/n)? y\n",
      "The generated password is: K_`2\n"
     ]
    }
   ],
   "source": [
    "import random\n",
    "import string\n",
    "\n",
    "def gen_pwd(min_length, numbers=True, special_char=True):\n",
    "    letters = string.ascii_letters\n",
    "    digits = string.digits\n",
    "    special = string.punctuation\n",
    "    \n",
    "    characters = letters\n",
    "    if numbers:\n",
    "        characters += digits\n",
    "    if special_char:\n",
    "        characters += special\n",
    "        \n",
    "    pwd = \"\"\n",
    "    criteria = False\n",
    "    pwd_number = False\n",
    "    pwd_special = False\n",
    "    \n",
    "    while not criteria or len(pwd) < min_length:\n",
    "        new_char = random.choice(characters)\n",
    "        pwd += new_char\n",
    "        \n",
    "        if new_char in digits:\n",
    "            pwd_number = True\n",
    "        elif new_char in special:\n",
    "            pwd_special = True\n",
    "        \n",
    "        criteria = True\n",
    "        if numbers:\n",
    "            criteria = pwd_number\n",
    "        if special_char:\n",
    "            criteria = criteria and pwd_special\n",
    "\n",
    "    return pwd\n",
    "            \n",
    "min_length = int(input(\"Enter the minimum length: \"))\n",
    "required_number = input(\"Do you want to have numbers (y/n)? \").lower() == \"y\"\n",
    "required_special = input(\"Do you want to have special characters (y/n)? \").lower() == \"y\"\n",
    "\n",
    "pwd = gen_pwd(min_length, required_number, required_special)\n",
    "print(\"The generated password is:\", pwd)"
   ]
  },
  {
   "cell_type": "code",
   "execution_count": null,
   "id": "e864b7af",
   "metadata": {},
   "outputs": [],
   "source": []
  }
 ],
 "metadata": {
  "kernelspec": {
   "display_name": "Python 3 (ipykernel)",
   "language": "python",
   "name": "python3"
  },
  "language_info": {
   "codemirror_mode": {
    "name": "ipython",
    "version": 3
   },
   "file_extension": ".py",
   "mimetype": "text/x-python",
   "name": "python",
   "nbconvert_exporter": "python",
   "pygments_lexer": "ipython3",
   "version": "3.11.5"
  }
 },
 "nbformat": 4,
 "nbformat_minor": 5
}
