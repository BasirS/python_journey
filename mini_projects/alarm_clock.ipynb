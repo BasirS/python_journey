{
 "cells": [
  {
   "cell_type": "code",
   "execution_count": 1,
   "id": "341f0184",
   "metadata": {},
   "outputs": [
    {
     "name": "stdout",
     "output_type": "stream",
     "text": [
      "/Users/abdulbasir/anaconda3/bin/python\n",
      "Requirement already satisfied: playsound in /Users/abdulbasir/anaconda3/lib/python3.11/site-packages (1.3.0)\n"
     ]
    }
   ],
   "source": [
    "import sys\n",
    "print(sys.executable)\n",
    "\n",
    "!pip install playsound"
   ]
  },
  {
   "cell_type": "code",
   "execution_count": 4,
   "id": "881b69cc",
   "metadata": {},
   "outputs": [
    {
     "ename": "PlaysoundException",
     "evalue": "Could not load sound with filename, although URL was good... file:///Users/abdulbasir/Documents/Jupyter%20Notebooks/Projects/wawawa.wav",
     "output_type": "error",
     "traceback": [
      "\u001b[0;31m---------------------------------------------------------------------------\u001b[0m",
      "\u001b[0;31mPlaysoundException\u001b[0m                        Traceback (most recent call last)",
      "Cell \u001b[0;32mIn[4], line 3\u001b[0m\n\u001b[1;32m      1\u001b[0m \u001b[38;5;28;01mfrom\u001b[39;00m \u001b[38;5;21;01mplaysound\u001b[39;00m \u001b[38;5;28;01mimport\u001b[39;00m playsound\n\u001b[0;32m----> 3\u001b[0m playsound(\u001b[38;5;124m\"\u001b[39m\u001b[38;5;124mwawawa.wav\u001b[39m\u001b[38;5;124m\"\u001b[39m)\n",
      "File \u001b[0;32m~/anaconda3/lib/python3.11/site-packages/playsound.py:140\u001b[0m, in \u001b[0;36m_playsoundOSX\u001b[0;34m(sound, block)\u001b[0m\n\u001b[1;32m    138\u001b[0m         logger\u001b[38;5;241m.\u001b[39mdebug(\u001b[38;5;124m'\u001b[39m\u001b[38;5;124mFailed to load sound, although url was good... \u001b[39m\u001b[38;5;124m'\u001b[39m \u001b[38;5;241m+\u001b[39m sound)\n\u001b[1;32m    139\u001b[0m \u001b[38;5;28;01melse\u001b[39;00m:\n\u001b[0;32m--> 140\u001b[0m     \u001b[38;5;28;01mraise\u001b[39;00m PlaysoundException(\u001b[38;5;124m'\u001b[39m\u001b[38;5;124mCould not load sound with filename, although URL was good... \u001b[39m\u001b[38;5;124m'\u001b[39m \u001b[38;5;241m+\u001b[39m sound)\n\u001b[1;32m    141\u001b[0m nssound\u001b[38;5;241m.\u001b[39mplay()\n\u001b[1;32m    143\u001b[0m \u001b[38;5;28;01mif\u001b[39;00m block:\n",
      "\u001b[0;31mPlaysoundException\u001b[0m: Could not load sound with filename, although URL was good... file:///Users/abdulbasir/Documents/Jupyter%20Notebooks/Projects/wawawa.wav"
     ]
    }
   ],
   "source": [
    "from playsound import playsound\n",
    "\n",
    "playsound(\"wawawa.wav\")"
   ]
  },
  {
   "cell_type": "code",
   "execution_count": null,
   "id": "864dbe78",
   "metadata": {},
   "outputs": [],
   "source": []
  },
  {
   "cell_type": "code",
   "execution_count": null,
   "id": "5dcf520d",
   "metadata": {},
   "outputs": [],
   "source": []
  }
 ],
 "metadata": {
  "kernelspec": {
   "display_name": "Python 3 (ipykernel)",
   "language": "python",
   "name": "python3"
  },
  "language_info": {
   "codemirror_mode": {
    "name": "ipython",
    "version": 3
   },
   "file_extension": ".py",
   "mimetype": "text/x-python",
   "name": "python",
   "nbconvert_exporter": "python",
   "pygments_lexer": "ipython3",
   "version": "3.11.5"
  }
 },
 "nbformat": 4,
 "nbformat_minor": 5
}
