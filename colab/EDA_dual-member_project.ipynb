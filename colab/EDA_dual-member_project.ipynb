{
  "nbformat": 4,
  "nbformat_minor": 0,
  "metadata": {
    "colab": {
      "provenance": []
    },
    "kernelspec": {
      "name": "python3",
      "display_name": "Python 3"
    },
    "language_info": {
      "name": "python"
    }
  },
  "cells": [
    {
      "cell_type": "code",
      "execution_count": null,
      "metadata": {
        "id": "vM-NUgpK5JEV",
        "colab": {
          "base_uri": "https://localhost:8080/"
        },
        "outputId": "ed88dd97-e31c-462f-e9dd-1a5548427ee1"
      },
      "outputs": [
        {
          "output_type": "stream",
          "name": "stdout",
          "text": [
            "Downloading from https://www.kaggle.com/api/v1/datasets/download/uciml/iris?dataset_version_number=2...\n"
          ]
        },
        {
          "output_type": "stream",
          "name": "stderr",
          "text": [
            "100%|██████████| 3.60k/3.60k [00:00<00:00, 1.09MB/s]"
          ]
        },
        {
          "output_type": "stream",
          "name": "stdout",
          "text": [
            "Extracting files...\n"
          ]
        },
        {
          "output_type": "stream",
          "name": "stderr",
          "text": [
            "\n"
          ]
        }
      ],
      "source": [
        "# import packages\n",
        "import kagglehub\n",
        "import pandas as pd\n",
        "import os\n",
        "\n",
        "# Download latest version\n",
        "path_download = kagglehub.dataset_download(\"uciml/iris\")\n",
        "\n",
        "# Update path_download variable to point to csv file within directory\n",
        "data_path = os.path.join(path_download, \"Iris.csv\")\n",
        "\n",
        "# Load dataset into a dataframe\n",
        "df = pd.read_csv(data_path)"
      ]
    },
    {
      "cell_type": "code",
      "source": [
        "# Display first few rows of data and identify types of data\n",
        "print(\"First 5 rows of DF\")\n",
        "print(df.head())\n",
        "\n",
        "print(\"Data Types\")\n",
        "print(df.dtypes)"
      ],
      "metadata": {
        "id": "yzm7CB6R0UjO",
        "colab": {
          "base_uri": "https://localhost:8080/"
        },
        "outputId": "ccd56ff0-dc9f-4b85-91e9-f63c13607537"
      },
      "execution_count": null,
      "outputs": [
        {
          "output_type": "stream",
          "name": "stdout",
          "text": [
            "First 5 rows of DF\n",
            "   Id  SepalLengthCm  SepalWidthCm  PetalLengthCm  PetalWidthCm      Species\n",
            "0   1            5.1           3.5            1.4           0.2  Iris-setosa\n",
            "1   2            4.9           3.0            1.4           0.2  Iris-setosa\n",
            "2   3            4.7           3.2            1.3           0.2  Iris-setosa\n",
            "3   4            4.6           3.1            1.5           0.2  Iris-setosa\n",
            "4   5            5.0           3.6            1.4           0.2  Iris-setosa\n",
            "Data Types\n",
            "Id                 int64\n",
            "SepalLengthCm    float64\n",
            "SepalWidthCm     float64\n",
            "PetalLengthCm    float64\n",
            "PetalWidthCm     float64\n",
            "Species           object\n",
            "dtype: object\n"
          ]
        }
      ]
    },
    {
      "cell_type": "code",
      "source": [
        "# Dataset Info:\n",
        "# First 50 of Iris-Setosa, followed by 50 of Iris-Versicolor, and lastly, 50 of Iris-Virginica = (50*3) 150 Total Flower Species\n",
        "# 150 rows of Sepal Length and Width [in centimeters] (2 columns)\n",
        "# Petal Length and Width [in centimeters] (2 columns)\n",
        "# ID is the index (1-150)\n",
        "\n",
        "# Data Cleaning\n",
        "# Check for missing values in the dataset\n",
        "missing_values = df.isnull().sum()\n",
        "print(missing_values)\n",
        "\n",
        "# Fill in missing values and drop any unneccessary rows\n",
        "df = df.drop(columns=['PetalWidthCm'])\n",
        "print(df.head())"
      ],
      "metadata": {
        "id": "bu_KlkzOEwU7",
        "colab": {
          "base_uri": "https://localhost:8080/"
        },
        "outputId": "99df5a63-89d0-405b-805c-13d0e29dd4ba"
      },
      "execution_count": null,
      "outputs": [
        {
          "output_type": "stream",
          "name": "stdout",
          "text": [
            "Id               0\n",
            "SepalLengthCm    0\n",
            "SepalWidthCm     0\n",
            "PetalLengthCm    0\n",
            "PetalWidthCm     0\n",
            "Species          0\n",
            "dtype: int64\n",
            "   Id  SepalLengthCm  SepalWidthCm  PetalLengthCm      Species\n",
            "0   1            5.1           3.5            1.4  Iris-setosa\n",
            "1   2            4.9           3.0            1.4  Iris-setosa\n",
            "2   3            4.7           3.2            1.3  Iris-setosa\n",
            "3   4            4.6           3.1            1.5  Iris-setosa\n",
            "4   5            5.0           3.6            1.4  Iris-setosa\n"
          ]
        }
      ]
    },
    {
      "cell_type": "code",
      "source": [
        "# Filtering\n",
        "#1st method by only filtering for rows that only includes Iris-Setosa\n",
        "setosa_df = df[df['Species'] == 'Iris-setosa']\n",
        "print(setosa_df.head())\n",
        "\n",
        "#2nd method by only filtering for rows where the Sepal Length (SL) is greater than 6.0 cm\n",
        "large_SL_df = df[df['SepalLengthCm'] > 6.0]\n",
        "print(large_SL_df.head())\n",
        "\n",
        "#3rd method by specifically extracting rows for Iris-Virginica where the Sepal Width (SW) is greater than 3.5 cm\n",
        "large_virginicaSW_df = df[(df['Species'] == 'Iris-virginica') & (df['SepalWidthCm'] > 3.5)]\n",
        "print(large_virginicaSW_df.head())\n",
        "\n",
        "#4th method by extracting flowers that have a Petal Length (PL) between 5.0 cm and 6.0 cm\n",
        "medium_PL_df = df[(df['PetalLengthCm'] >= 0) & (df['PetalLengthCm'] <= 1.0)]\n",
        "print(medium_PL_df.head())"
      ],
      "metadata": {
        "id": "7YUp2icrFJam",
        "colab": {
          "base_uri": "https://localhost:8080/"
        },
        "outputId": "276294e7-5be6-48a1-90d4-3be69790ddaa"
      },
      "execution_count": null,
      "outputs": [
        {
          "output_type": "stream",
          "name": "stdout",
          "text": [
            "   Id  SepalLengthCm  SepalWidthCm  PetalLengthCm      Species\n",
            "0   1            5.1           3.5            1.4  Iris-setosa\n",
            "1   2            4.9           3.0            1.4  Iris-setosa\n",
            "2   3            4.7           3.2            1.3  Iris-setosa\n",
            "3   4            4.6           3.1            1.5  Iris-setosa\n",
            "4   5            5.0           3.6            1.4  Iris-setosa\n",
            "    Id  SepalLengthCm  SepalWidthCm  PetalLengthCm          Species\n",
            "50  51            7.0           3.2            4.7  Iris-versicolor\n",
            "51  52            6.4           3.2            4.5  Iris-versicolor\n",
            "52  53            6.9           3.1            4.9  Iris-versicolor\n",
            "54  55            6.5           2.8            4.6  Iris-versicolor\n",
            "56  57            6.3           3.3            4.7  Iris-versicolor\n",
            "      Id  SepalLengthCm  SepalWidthCm  PetalLengthCm         Species\n",
            "109  110            7.2           3.6            6.1  Iris-virginica\n",
            "117  118            7.7           3.8            6.7  Iris-virginica\n",
            "131  132            7.9           3.8            6.4  Iris-virginica\n",
            "    Id  SepalLengthCm  SepalWidthCm  PetalLengthCm      Species\n",
            "22  23            4.6           3.6            1.0  Iris-setosa\n"
          ]
        }
      ]
    },
    {
      "cell_type": "code",
      "source": [
        "# Grouping and Aggregation\n",
        "#1st method by grouping data based on three flower species and calculating avg Sepal Length (SL) for each\n",
        "mean_SL_species = df.groupby('Species')['SepalLengthCm'].mean()\n",
        "print(f\"Average Sepal Length for each species: \\n{mean_SL_species}\")\n",
        "\n",
        "# 2nd method by grouping the three flower species based on multiple aggregation functions for Sepal Width\n",
        "sepal_width_stats = df.groupby('Species')['SepalWidthCm'].agg(['mean', 'std', 'sum', 'count'])\n",
        "print(f\"Grouped flower species based on multi aggr func for Sepal Width: \\n{sepal_width_stats}\")\n",
        "\n",
        "# 3rd method by grouping the three flower species based on the variance of Sepal Width (SW)\n",
        "var_SW_species = df.groupby('Species')['SepalWidthCm'].var()\n",
        "print(f\"Grouped flower species based on variance of Sepal Width: \\n{var_SW_species}\")\n",
        "\n",
        "# 4th method by grouping the three flower species based on the aggregation of the range (max-min) of Petal Length (PL)\n",
        "range_PL_species = df.groupby('Species')['PetalLengthCm'].agg(lambda x: x.max() - x.min())\n",
        "print(f\"Grouped flower species based on aggregation of the range of Petal Length: \\n{range_PL_species}\")"
      ],
      "metadata": {
        "id": "0tQ4FX0sFLd4",
        "colab": {
          "base_uri": "https://localhost:8080/"
        },
        "outputId": "6b92cc23-c668-4ac2-cf4d-7db154348e19"
      },
      "execution_count": null,
      "outputs": [
        {
          "output_type": "stream",
          "name": "stdout",
          "text": [
            "Average Sepal Length for each species: \n",
            "Species\n",
            "Iris-setosa        5.006\n",
            "Iris-versicolor    5.936\n",
            "Iris-virginica     6.588\n",
            "Name: SepalLengthCm, dtype: float64\n",
            "Grouped flower species based on multi aggr func for Sepal Width: \n",
            "                  mean       std    sum  count\n",
            "Species                                       \n",
            "Iris-setosa      3.418  0.381024  170.9     50\n",
            "Iris-versicolor  2.770  0.313798  138.5     50\n",
            "Iris-virginica   2.974  0.322497  148.7     50\n",
            "Grouped flower species based on variance of Sepal Width: \n",
            "Species\n",
            "Iris-setosa        0.145180\n",
            "Iris-versicolor    0.098469\n",
            "Iris-virginica     0.104004\n",
            "Name: SepalWidthCm, dtype: float64\n",
            "Grouped flower species based on aggregation of the range of Petal Length: \n",
            "Species\n",
            "Iris-setosa        0.9\n",
            "Iris-versicolor    2.1\n",
            "Iris-virginica     2.4\n",
            "Name: PetalLengthCm, dtype: float64\n"
          ]
        }
      ]
    },
    {
      "cell_type": "markdown",
      "source": [
        "# Output Findings (Filtering)\n",
        "**1st filtering method** revealed that Iris-setosa has different characteristics in its sepal and petal columns. Specifically, the values followed a descending order: Sepal Length > Sepal Width > Petal Length. **2nd filtering method** returned Sepal Length of all flower species greater than 6.0 cm, and the majority of the Iris species were Iris-versicolor species; meaningful for differentiating species based on larger sepal measurements. **3rd filtering method** identified three Iris-virginica flowers that had Sepal Width greater than 3.5 centimeters, while the Sepal Length and Petal Length values are twice its Sepal Width. **4th filtering method** had to extract a value between 0 and 1, where it returned only one Iris-setosa value from the whole dataset, which had a Petal Length equal to 1.0.\n",
        "\n",
        "# Output Findings (Grouping & Aggregation)\n",
        "**1st grouping method** reveals that Iris-setosa has the shortest average sepal length (5.006 cm), while Iris-virginica has the longest (6.588 cm), with Iris-versicolor in between (5.936 cm). This suggests differences in the overall size of the species. **2nd grouping method** reveals the mean sepal width is largest in Iris-setosa (3.418 cm) and smallest in Iris-versicolor (2.770 cm). The standard deviation is also highest in Iris-setosa (0.381), indicating higher variability in this species' sepal width. Despite the differences in sepal width, all species have the same count of 50 samples. **3rd grouping method** reveals that Iris-setosa has the highest variance (0.145), while Iris-versicolor has the lowest (0.098), suggesting more consistency in sepal width measurements for Iris-versicolor compared to the others. **4th grouping method** reveals that the range of petal length is smallest in Iris-setosa (0.9 cm), while Iris-virginica has the largest range (2.4 cm), showing more differences in the petal lengths of the Iris-virginica species compared to the others.\n",
        "\n",
        "\n",
        "\n",
        "\n",
        "\n",
        "\n"
      ],
      "metadata": {
        "id": "579Zk2M650ge"
      }
    }
  ]
}